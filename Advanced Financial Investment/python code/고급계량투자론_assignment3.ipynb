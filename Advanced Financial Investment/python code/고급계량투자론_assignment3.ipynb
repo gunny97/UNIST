{
 "cells": [
  {
   "cell_type": "markdown",
   "metadata": {},
   "source": [
    "### Submit a pdf document to show your work. Put screenshots of your code and its results, and explain them. \n",
    "### 1. (40 pts) Implement the financial planning example in Chapter 7. You may use any of the formulations given in pages 30 and 32. Show that the optimal decisions and outcomes for all scenarios and stages can be found as in page 34."
   ]
  },
  {
   "cell_type": "code",
   "execution_count": 5,
   "metadata": {},
   "outputs": [
    {
     "name": "stderr",
     "output_type": "stream",
     "text": [
      "C:\\ana3\\envs\\t_f2.2\\lib\\site-packages\\cvxpy\\expressions\\expression.py:556: UserWarning: \n",
      "This use of ``*`` has resulted in matrix multiplication.\n",
      "Using ``*`` for matrix multiplication has been deprecated since CVXPY 1.1.\n",
      "    Use ``*`` for matrix-scalar and vector-scalar multiplication.\n",
      "    Use ``@`` for matrix-matrix and matrix-vector multiplication.\n",
      "    Use ``multiply`` for elementwise multiplication.\n",
      "This code path has been hit 16 times so far.\n",
      "\n",
      "  warnings.warn(msg, UserWarning)\n",
      "C:\\ana3\\envs\\t_f2.2\\lib\\site-packages\\cvxpy\\expressions\\expression.py:556: UserWarning: \n",
      "This use of ``*`` has resulted in matrix multiplication.\n",
      "Using ``*`` for matrix multiplication has been deprecated since CVXPY 1.1.\n",
      "    Use ``*`` for matrix-scalar and vector-scalar multiplication.\n",
      "    Use ``@`` for matrix-matrix and matrix-vector multiplication.\n",
      "    Use ``multiply`` for elementwise multiplication.\n",
      "This code path has been hit 17 times so far.\n",
      "\n",
      "  warnings.warn(msg, UserWarning)\n",
      "C:\\ana3\\envs\\t_f2.2\\lib\\site-packages\\cvxpy\\expressions\\expression.py:556: UserWarning: \n",
      "This use of ``*`` has resulted in matrix multiplication.\n",
      "Using ``*`` for matrix multiplication has been deprecated since CVXPY 1.1.\n",
      "    Use ``*`` for matrix-scalar and vector-scalar multiplication.\n",
      "    Use ``@`` for matrix-matrix and matrix-vector multiplication.\n",
      "    Use ``multiply`` for elementwise multiplication.\n",
      "This code path has been hit 18 times so far.\n",
      "\n",
      "  warnings.warn(msg, UserWarning)\n",
      "C:\\ana3\\envs\\t_f2.2\\lib\\site-packages\\cvxpy\\expressions\\expression.py:556: UserWarning: \n",
      "This use of ``*`` has resulted in matrix multiplication.\n",
      "Using ``*`` for matrix multiplication has been deprecated since CVXPY 1.1.\n",
      "    Use ``*`` for matrix-scalar and vector-scalar multiplication.\n",
      "    Use ``@`` for matrix-matrix and matrix-vector multiplication.\n",
      "    Use ``multiply`` for elementwise multiplication.\n",
      "This code path has been hit 19 times so far.\n",
      "\n",
      "  warnings.warn(msg, UserWarning)\n",
      "C:\\ana3\\envs\\t_f2.2\\lib\\site-packages\\cvxpy\\expressions\\expression.py:556: UserWarning: \n",
      "This use of ``*`` has resulted in matrix multiplication.\n",
      "Using ``*`` for matrix multiplication has been deprecated since CVXPY 1.1.\n",
      "    Use ``*`` for matrix-scalar and vector-scalar multiplication.\n",
      "    Use ``@`` for matrix-matrix and matrix-vector multiplication.\n",
      "    Use ``multiply`` for elementwise multiplication.\n",
      "This code path has been hit 20 times so far.\n",
      "\n",
      "  warnings.warn(msg, UserWarning)\n",
      "C:\\ana3\\envs\\t_f2.2\\lib\\site-packages\\cvxpy\\expressions\\expression.py:556: UserWarning: \n",
      "This use of ``*`` has resulted in matrix multiplication.\n",
      "Using ``*`` for matrix multiplication has been deprecated since CVXPY 1.1.\n",
      "    Use ``*`` for matrix-scalar and vector-scalar multiplication.\n",
      "    Use ``@`` for matrix-matrix and matrix-vector multiplication.\n",
      "    Use ``multiply`` for elementwise multiplication.\n",
      "This code path has been hit 21 times so far.\n",
      "\n",
      "  warnings.warn(msg, UserWarning)\n",
      "C:\\ana3\\envs\\t_f2.2\\lib\\site-packages\\cvxpy\\expressions\\expression.py:556: UserWarning: \n",
      "This use of ``*`` has resulted in matrix multiplication.\n",
      "Using ``*`` for matrix multiplication has been deprecated since CVXPY 1.1.\n",
      "    Use ``*`` for matrix-scalar and vector-scalar multiplication.\n",
      "    Use ``@`` for matrix-matrix and matrix-vector multiplication.\n",
      "    Use ``multiply`` for elementwise multiplication.\n",
      "This code path has been hit 22 times so far.\n",
      "\n",
      "  warnings.warn(msg, UserWarning)\n",
      "C:\\ana3\\envs\\t_f2.2\\lib\\site-packages\\cvxpy\\expressions\\expression.py:556: UserWarning: \n",
      "This use of ``*`` has resulted in matrix multiplication.\n",
      "Using ``*`` for matrix multiplication has been deprecated since CVXPY 1.1.\n",
      "    Use ``*`` for matrix-scalar and vector-scalar multiplication.\n",
      "    Use ``@`` for matrix-matrix and matrix-vector multiplication.\n",
      "    Use ``multiply`` for elementwise multiplication.\n",
      "This code path has been hit 23 times so far.\n",
      "\n",
      "  warnings.warn(msg, UserWarning)\n",
      "C:\\ana3\\envs\\t_f2.2\\lib\\site-packages\\cvxpy\\expressions\\expression.py:556: UserWarning: \n",
      "This use of ``*`` has resulted in matrix multiplication.\n",
      "Using ``*`` for matrix multiplication has been deprecated since CVXPY 1.1.\n",
      "    Use ``*`` for matrix-scalar and vector-scalar multiplication.\n",
      "    Use ``@`` for matrix-matrix and matrix-vector multiplication.\n",
      "    Use ``multiply`` for elementwise multiplication.\n",
      "This code path has been hit 24 times so far.\n",
      "\n",
      "  warnings.warn(msg, UserWarning)\n",
      "C:\\ana3\\envs\\t_f2.2\\lib\\site-packages\\cvxpy\\expressions\\expression.py:556: UserWarning: \n",
      "This use of ``*`` has resulted in matrix multiplication.\n",
      "Using ``*`` for matrix multiplication has been deprecated since CVXPY 1.1.\n",
      "    Use ``*`` for matrix-scalar and vector-scalar multiplication.\n",
      "    Use ``@`` for matrix-matrix and matrix-vector multiplication.\n",
      "    Use ``multiply`` for elementwise multiplication.\n",
      "This code path has been hit 25 times so far.\n",
      "\n",
      "  warnings.warn(msg, UserWarning)\n",
      "C:\\ana3\\envs\\t_f2.2\\lib\\site-packages\\cvxpy\\expressions\\expression.py:556: UserWarning: \n",
      "This use of ``*`` has resulted in matrix multiplication.\n",
      "Using ``*`` for matrix multiplication has been deprecated since CVXPY 1.1.\n",
      "    Use ``*`` for matrix-scalar and vector-scalar multiplication.\n",
      "    Use ``@`` for matrix-matrix and matrix-vector multiplication.\n",
      "    Use ``multiply`` for elementwise multiplication.\n",
      "This code path has been hit 26 times so far.\n",
      "\n",
      "  warnings.warn(msg, UserWarning)\n",
      "C:\\ana3\\envs\\t_f2.2\\lib\\site-packages\\cvxpy\\expressions\\expression.py:556: UserWarning: \n",
      "This use of ``*`` has resulted in matrix multiplication.\n",
      "Using ``*`` for matrix multiplication has been deprecated since CVXPY 1.1.\n",
      "    Use ``*`` for matrix-scalar and vector-scalar multiplication.\n",
      "    Use ``@`` for matrix-matrix and matrix-vector multiplication.\n",
      "    Use ``multiply`` for elementwise multiplication.\n",
      "This code path has been hit 27 times so far.\n",
      "\n",
      "  warnings.warn(msg, UserWarning)\n",
      "C:\\ana3\\envs\\t_f2.2\\lib\\site-packages\\cvxpy\\expressions\\expression.py:556: UserWarning: \n",
      "This use of ``*`` has resulted in matrix multiplication.\n",
      "Using ``*`` for matrix multiplication has been deprecated since CVXPY 1.1.\n",
      "    Use ``*`` for matrix-scalar and vector-scalar multiplication.\n",
      "    Use ``@`` for matrix-matrix and matrix-vector multiplication.\n",
      "    Use ``multiply`` for elementwise multiplication.\n",
      "This code path has been hit 28 times so far.\n",
      "\n",
      "  warnings.warn(msg, UserWarning)\n",
      "C:\\ana3\\envs\\t_f2.2\\lib\\site-packages\\cvxpy\\expressions\\expression.py:556: UserWarning: \n",
      "This use of ``*`` has resulted in matrix multiplication.\n",
      "Using ``*`` for matrix multiplication has been deprecated since CVXPY 1.1.\n",
      "    Use ``*`` for matrix-scalar and vector-scalar multiplication.\n",
      "    Use ``@`` for matrix-matrix and matrix-vector multiplication.\n",
      "    Use ``multiply`` for elementwise multiplication.\n",
      "This code path has been hit 29 times so far.\n",
      "\n",
      "  warnings.warn(msg, UserWarning)\n",
      "C:\\ana3\\envs\\t_f2.2\\lib\\site-packages\\cvxpy\\expressions\\expression.py:556: UserWarning: \n",
      "This use of ``*`` has resulted in matrix multiplication.\n",
      "Using ``*`` for matrix multiplication has been deprecated since CVXPY 1.1.\n",
      "    Use ``*`` for matrix-scalar and vector-scalar multiplication.\n",
      "    Use ``@`` for matrix-matrix and matrix-vector multiplication.\n",
      "    Use ``multiply`` for elementwise multiplication.\n",
      "This code path has been hit 30 times so far.\n",
      "\n",
      "  warnings.warn(msg, UserWarning)\n"
     ]
    },
    {
     "data": {
      "text/plain": [
       "-1514.0846435545063"
      ]
     },
     "execution_count": 5,
     "metadata": {},
     "output_type": "execute_result"
    }
   ],
   "source": [
    "import cvxpy as cp\n",
    "import numpy as np\n",
    "\n",
    "x_0 = cp.Variable(14) \n",
    "\n",
    "y = cp.Variable(8)\n",
    "w = cp.Variable(8)\n",
    "p =np.array([0.125,0.125,0.125,0.125,0.125,0.125,0.125,0.125])\n",
    "\n",
    "q = 1\n",
    "r = 4\n",
    "\n",
    "bull = np.array([1.25,1.14])\n",
    "bear = np.array([1.06,1.12])\n",
    "\n",
    "initial_amount = 55000\n",
    "goal_amount = 80000\n",
    "\n",
    "objective = cp.Maximize(p.T*(q*y - r*w)) # (scenario probability)*(expected utility)\n",
    "\n",
    "#y: amount of money exceed the goal, q: slope assigned for money after -> q*y: utility after the goal\n",
    "#w: amount of money short from the goal\n",
    "# y,w depend on scenario s\n",
    "\n",
    "prob = cp.Problem(objective,\n",
    "                  #constraint\n",
    "                 [sum(x_0[0:2])==initial_amount, # first stage decision's each scenario same as with budget\n",
    "                  \n",
    "                  bull*x_0[0:2] == sum(x_0[2:4]),\n",
    "                  bear*x_0[0:2] == sum(x_0[4:6]),\n",
    "                  \n",
    "                  bull*x_0[2:4] == sum(x_0[6:8]),\n",
    "                  bear*x_0[2:4] == sum(x_0[8:10]),\n",
    "                  bull*x_0[4:6] == sum(x_0[10:12]),\n",
    "                  bear*x_0[4:6] == sum(x_0[12:14]),\n",
    "                  \n",
    "                  bull*x_0[6:8] - y[0] + w[0] == goal_amount *np.ones(1),\n",
    "                  bear*x_0[6:8] - y[1] + w[1] == goal_amount *np.ones(1),\n",
    "                  bull*x_0[8:10] - y[2] + w[2] == goal_amount *np.ones(1),\n",
    "                  bear*x_0[8:10] - y[3] + w[3] == goal_amount *np.ones(1),\n",
    "                  bull*x_0[10:12] - y[4] + w[4] == goal_amount *np.ones(1),\n",
    "                  bear*x_0[10:12] - y[5] + w[5] == goal_amount *np.ones(1),\n",
    "                  bull*x_0[12:14] - y[6] + w[6] == goal_amount *np.ones(1),\n",
    "                  bear*x_0[12:14] - y[7] + w[7] == goal_amount *np.ones(1),\n",
    "\n",
    "                  x_0 >= 0,\n",
    "                  y >= 0 ,\n",
    "                  w >= 0])\n",
    "\n",
    "prob.solve(solver=cp.ECOS)"
   ]
  },
  {
   "cell_type": "code",
   "execution_count": 34,
   "metadata": {},
   "outputs": [
    {
     "data": {
      "text/plain": [
       "array([4.14792722e+04, 1.35207278e+04, 6.50945819e+04, 2.16813809e+03,\n",
       "       3.67432150e+04, 2.23680287e+04, 8.38399047e+04, 1.51376311e-06,\n",
       "       1.34729416e-05, 7.14285714e+04, 4.92748170e-06, 7.14285714e+04,\n",
       "       6.40000000e+04, 5.25430520e-05])"
      ]
     },
     "execution_count": 34,
     "metadata": {},
     "output_type": "execute_result"
    }
   ],
   "source": [
    "x_0.value"
   ]
  },
  {
   "cell_type": "code",
   "execution_count": 19,
   "metadata": {},
   "outputs": [],
   "source": [
    "x_0_list = list(x_0.value)"
   ]
  },
  {
   "cell_type": "code",
   "execution_count": 36,
   "metadata": {
    "scrolled": true
   },
   "outputs": [
    {
     "name": "stdout",
     "output_type": "stream",
     "text": [
      "41479.27224808076 \n",
      "\n",
      "13520.727751919243 \n",
      "\n",
      "65094.581861417886 \n",
      "\n",
      "2168.138085870989 \n",
      "\n",
      "36743.21500535503 \n",
      "\n",
      "22368.02865976013 \n",
      "\n",
      "83839.90474315154 \n",
      "\n",
      "1.513763111626204e-06 \n",
      "\n",
      "1.3472941631454558e-05 \n",
      "\n",
      "71428.57141580555 \n",
      "\n",
      "4.927481699302109e-06 \n",
      "\n",
      "71428.57142389286 \n",
      "\n",
      "63999.99995206463 \n",
      "\n",
      "5.254305196959642e-05 \n",
      "\n"
     ]
    }
   ],
   "source": [
    "for i in x_0_list:\n",
    "    print(i ,'\\n')"
   ]
  },
  {
   "cell_type": "code",
   "execution_count": 58,
   "metadata": {
    "scrolled": true
   },
   "outputs": [
    {
     "data": {
      "text/plain": [
       "array([[8.38399047e+04, 1.51376311e-06],\n",
       "       [1.34729416e-05, 7.14285714e+04],\n",
       "       [4.92748170e-06, 7.14285714e+04],\n",
       "       [6.40000000e+04, 5.25430520e-05]])"
      ]
     },
     "execution_count": 58,
     "metadata": {},
     "output_type": "execute_result"
    }
   ],
   "source": [
    "time_3_amount = np.reshape(x_0.value,(7,2))[3:]\n",
    "time_3_amount"
   ]
  },
  {
   "cell_type": "code",
   "execution_count": 59,
   "metadata": {},
   "outputs": [
    {
     "data": {
      "text/plain": [
       "104799.88093066511"
      ]
     },
     "execution_count": 59,
     "metadata": {},
     "output_type": "execute_result"
    }
   ],
   "source": [
    "scenario_1 = np.dot(time_3_amount[0],bull)\n",
    "scenario_1"
   ]
  },
  {
   "cell_type": "code",
   "execution_count": 60,
   "metadata": {},
   "outputs": [
    {
     "data": {
      "text/plain": [
       "88870.29902943605"
      ]
     },
     "execution_count": 60,
     "metadata": {},
     "output_type": "execute_result"
    }
   ],
   "source": [
    "scenario_2 = np.dot(time_3_amount[0],bear)\n",
    "scenario_2"
   ]
  },
  {
   "cell_type": "code",
   "execution_count": 61,
   "metadata": {},
   "outputs": [
    {
     "data": {
      "text/plain": [
       "81428.57143085949"
      ]
     },
     "execution_count": 61,
     "metadata": {},
     "output_type": "execute_result"
    }
   ],
   "source": [
    "scenario_3 = np.dot(time_3_amount[1],bull)\n",
    "scenario_3"
   ]
  },
  {
   "cell_type": "code",
   "execution_count": 62,
   "metadata": {},
   "outputs": [
    {
     "data": {
      "text/plain": [
       "79999.99999998354"
      ]
     },
     "execution_count": 62,
     "metadata": {},
     "output_type": "execute_result"
    }
   ],
   "source": [
    "scenario_4 = np.dot(time_3_amount[1],bear)\n",
    "scenario_4"
   ]
  },
  {
   "cell_type": "code",
   "execution_count": 63,
   "metadata": {},
   "outputs": [
    {
     "data": {
      "text/plain": [
       "81428.57142939721"
      ]
     },
     "execution_count": 63,
     "metadata": {},
     "output_type": "execute_result"
    }
   ],
   "source": [
    "scenario_5 = np.dot(time_3_amount[2],bull)\n",
    "scenario_5"
   ]
  },
  {
   "cell_type": "code",
   "execution_count": 64,
   "metadata": {},
   "outputs": [
    {
     "data": {
      "text/plain": [
       "79999.99999998315"
      ]
     },
     "execution_count": 64,
     "metadata": {},
     "output_type": "execute_result"
    }
   ],
   "source": [
    "scenario_6 = np.dot(time_3_amount[2],bear)\n",
    "scenario_6"
   ]
  },
  {
   "cell_type": "code",
   "execution_count": 65,
   "metadata": {},
   "outputs": [
    {
     "data": {
      "text/plain": [
       "79999.99999997986"
      ]
     },
     "execution_count": 65,
     "metadata": {},
     "output_type": "execute_result"
    }
   ],
   "source": [
    "scenario_7 = np.dot(time_3_amount[3],bull)\n",
    "scenario_7"
   ]
  },
  {
   "cell_type": "code",
   "execution_count": 66,
   "metadata": {},
   "outputs": [
    {
     "data": {
      "text/plain": [
       "67840.00000803673"
      ]
     },
     "execution_count": 66,
     "metadata": {},
     "output_type": "execute_result"
    }
   ],
   "source": [
    "scenario_8 = np.dot(time_3_amount[3],bear)\n",
    "scenario_8"
   ]
  },
  {
   "cell_type": "code",
   "execution_count": null,
   "metadata": {},
   "outputs": [],
   "source": []
  }
 ],
 "metadata": {
  "kernelspec": {
   "display_name": "Python 3",
   "language": "python",
   "name": "python3"
  }
 },
 "nbformat": 4,
 "nbformat_minor": 4
}
