{
 "cells": [
  {
   "cell_type": "code",
   "execution_count": 1,
   "metadata": {},
   "outputs": [
    {
     "name": "stderr",
     "output_type": "stream",
     "text": [
      "C:\\ana3\\envs\\t_f2.2\\lib\\site-packages\\numpy\\_distributor_init.py:30: UserWarning: loaded more than 1 DLL from .libs:\n",
      "C:\\ana3\\envs\\t_f2.2\\lib\\site-packages\\numpy\\.libs\\libopenblas.NOIJJG62EMASZI6NYURL6JBKM4EVBGM7.gfortran-win_amd64.dll\n",
      "C:\\ana3\\envs\\t_f2.2\\lib\\site-packages\\numpy\\.libs\\libopenblas.WCDJNK7YVMPZQ2ME2ZZHJJRJ3JIKNDB7.gfortran-win_amd64.dll\n",
      "  warnings.warn(\"loaded more than 1 DLL from .libs:\"\n"
     ]
    }
   ],
   "source": [
    "import pandas as pd\n",
    "import numpy as np\n",
    "import pandas_datareader.data as web\n",
    "import matplotlib.pyplot as plt\n",
    "from tqdm import tqdm\n",
    "import cvxpy as cp\n",
    "import warnings\n",
    "warnings.filterwarnings(action='ignore')"
   ]
  },
  {
   "cell_type": "code",
   "execution_count": 2,
   "metadata": {},
   "outputs": [],
   "source": [
    "def price_data(start,end):\n",
    "    #Korea stock\n",
    "    KODEX_200 = web.DataReader('069500.KS',data_source='yahoo',start=start,end=end)\n",
    "    KOSDAQ_150 = web.DataReader('229200.KS',data_source='yahoo',start=start,end=end)\n",
    "    KODEX_LVERAGE = web.DataReader('122630.KS',data_source='yahoo',start=start,end=end)\n",
    "    KODEX_KOSDAQ_150_LVERAGE = web.DataReader('233740.KS',data_source='yahoo',start=start,end=end)\n",
    "    KODEX_SAMSUNG = web.DataReader('102780.KS',data_source='yahoo',start=start,end=end)\n",
    "    TIGER_TOP10 = web.DataReader('292150.KS',data_source='yahoo',start=start,end=end)\n",
    "\n",
    "\n",
    "    #Korea bond\n",
    "    KODEX_10Y = web.DataReader('152380.KS',data_source='yahoo',start=start,end=end)\n",
    "    KODEX_TBS_3Y = web.DataReader('114260.KS',data_source='yahoo',start=start,end=end)\n",
    "    KODEX_KRW_CASH = web.DataReader('153130.KS',data_source='yahoo',start=start,end=end)\n",
    "    KODEX_KRW_CASH_PLUS = web.DataReader('130730.KS',data_source='yahoo',start=start,end=end)  # kosef-130730\n",
    "    TIGER_MONEY_MARKET = web.DataReader('157450.KS',data_source='yahoo',start=start,end=end)\n",
    "    KIWOOM_10Y = web.DataReader('148070.KS',data_source='yahoo',start=start,end=end)\n",
    "\n",
    "    #price_data\n",
    "    close_df = pd.DataFrame({'bond_1':KODEX_10Y['Adj Close'],\n",
    "                             'bond_2':KODEX_TBS_3Y['Adj Close'],\n",
    "                             'bond_3':KODEX_KRW_CASH['Adj Close'],\n",
    "                             'bond_4':KODEX_KRW_CASH_PLUS['Adj Close'],  \n",
    "                             'bond_5':TIGER_MONEY_MARKET['Adj Close'],\n",
    "                             'bond_6':KIWOOM_10Y['Adj Close'],  \n",
    "                             'stock_1':KODEX_200['Adj Close'],\n",
    "                             'stock_2':KOSDAQ_150['Adj Close'],\n",
    "                             'stock_3':KODEX_SAMSUNG['Adj Close'],\n",
    "                             'stock_4':KODEX_KOSDAQ_150_LVERAGE['Adj Close'],\n",
    "                             'stock_5':KODEX_LVERAGE['Adj Close'],\n",
    "                             'stock_6':TIGER_TOP10['Adj Close']})\n",
    "\n",
    "    close_df.drop(index=close_df.iloc[:1, :].index.tolist(), inplace=True)\n",
    "    return close_df"
   ]
  },
  {
   "cell_type": "code",
   "execution_count": 3,
   "metadata": {},
   "outputs": [],
   "source": [
    "def calculate_gain(investment_amount, weight, close_df):\n",
    "    \n",
    "    portfolio_amount = []\n",
    "    for w in weight:\n",
    "        portfolio_amount.append(investment_amount*w)\n",
    "\n",
    "    gain_list = []\n",
    "    for i in range(12):\n",
    "        gap_price = close_df.iloc[-1][i] - close_df.iloc[0][i]\n",
    "        rtn_pct = gap_price / close_df.iloc[0][i]\n",
    "        gain_list.append((1+rtn_pct)*portfolio_amount[i])\n",
    "    all_gain = 0\n",
    "    for rtn in gain_list:\n",
    "        all_gain += rtn\n",
    "        \n",
    "    return all_gain"
   ]
  },
  {
   "cell_type": "code",
   "execution_count": 4,
   "metadata": {},
   "outputs": [],
   "source": [
    "def calculate_mu_sigma(start,end):\n",
    "    #Korea stock\n",
    "    KODEX_200 = web.DataReader('069500.KS',data_source='yahoo',start=start,end=end)\n",
    "    KOSDAQ_150 = web.DataReader('229200.KS',data_source='yahoo',start=start,end=end)\n",
    "    KODEX_LVERAGE = web.DataReader('122630.KS',data_source='yahoo',start=start,end=end)\n",
    "    KODEX_KOSDAQ_150_LVERAGE = web.DataReader('233740.KS',data_source='yahoo',start=start,end=end)\n",
    "    KODEX_SAMSUNG = web.DataReader('102780.KS',data_source='yahoo',start=start,end=end)\n",
    "    TIGER_TOP10 = web.DataReader('292150.KS',data_source='yahoo',start=start,end=end)\n",
    "\n",
    "    #Korea bond\n",
    "    KODEX_10Y = web.DataReader('152380.KS',data_source='yahoo',start=start,end=end)\n",
    "    KODEX_TBS_3Y = web.DataReader('114260.KS',data_source='yahoo',start=start,end=end)\n",
    "    KODEX_KRW_CASH = web.DataReader('153130.KS',data_source='yahoo',start=start,end=end)\n",
    "    KODEX_KRW_CASH_PLUS = web.DataReader('130730.KS',data_source='yahoo',start=start,end=end)\n",
    "    TIGER_MONEY_MARKET = web.DataReader('157450.KS',data_source='yahoo',start=start,end=end)\n",
    "    KIWOOM_10Y = web.DataReader('148070.KS',data_source='yahoo',start=start,end=end)\n",
    "    \n",
    "    \n",
    "    # change into monthly data\n",
    "    \n",
    "    #Korea stock\n",
    "    KODEX_200 = pd.DataFrame(KODEX_200.groupby(pd.Grouper(freq='M'))['Adj Close'].mean())\n",
    "    KOSDAQ_150 = pd.DataFrame(KOSDAQ_150.groupby(pd.Grouper(freq='M'))['Adj Close'].mean())\n",
    "    KODEX_LVERAGE = pd.DataFrame(KODEX_LVERAGE.groupby(pd.Grouper(freq='M'))['Adj Close'].mean())\n",
    "    KODEX_KOSDAQ_150_LVERAGE = pd.DataFrame(KODEX_KOSDAQ_150_LVERAGE.groupby(pd.Grouper(freq='M'))['Adj Close'].mean())\n",
    "    KODEX_SAMSUNG = pd.DataFrame(KODEX_SAMSUNG.groupby(pd.Grouper(freq='M'))['Adj Close'].mean())\n",
    "    TIGER_TOP10 = pd.DataFrame(TIGER_TOP10.groupby(pd.Grouper(freq='M'))['Adj Close'].mean())\n",
    "    \n",
    "    #Korea bond\n",
    "    KODEX_10Y = pd.DataFrame(KODEX_10Y.groupby(pd.Grouper(freq='M'))['Adj Close'].mean())\n",
    "    KODEX_TBS_3Y = pd.DataFrame(KODEX_TBS_3Y.groupby(pd.Grouper(freq='M'))['Adj Close'].mean())\n",
    "    KODEX_KRW_CASH = pd.DataFrame(KODEX_KRW_CASH.groupby(pd.Grouper(freq='M'))['Adj Close'].mean())\n",
    "    KODEX_KRW_CASH_PLUS = pd.DataFrame(KODEX_KRW_CASH_PLUS.groupby(pd.Grouper(freq='M'))['Adj Close'].mean())\n",
    "    TIGER_MONEY_MARKET = pd.DataFrame(TIGER_MONEY_MARKET.groupby(pd.Grouper(freq='M'))['Adj Close'].mean())\n",
    "    KIWOOM_10Y = pd.DataFrame(KIWOOM_10Y.groupby(pd.Grouper(freq='M'))['Adj Close'].mean())\n",
    "\n",
    "\n",
    "    ### calculate return\n",
    "    KODEX_200_logret = np.log(KODEX_200['Adj Close']/KODEX_200['Adj Close'].shift(1))\n",
    "    KOSDAQ_150_logret = np.log(KOSDAQ_150['Adj Close']/KOSDAQ_150['Adj Close'].shift(1))\n",
    "    KODEX_LVERAGE_logret = np.log(KODEX_LVERAGE['Adj Close']/KODEX_LVERAGE['Adj Close'].shift(1))\n",
    "    KODEX_KOSDAQ_150_LVERAGE_logret = np.log(KODEX_KOSDAQ_150_LVERAGE['Adj Close']/KODEX_KOSDAQ_150_LVERAGE['Adj Close'].shift(1))\n",
    "    KODEX_SAMSUNG_logret = np.log(KODEX_SAMSUNG['Adj Close']/KODEX_SAMSUNG['Adj Close'].shift(1))\n",
    "    TIGER_TOP10_logret = np.log(TIGER_TOP10['Adj Close']/TIGER_TOP10['Adj Close'].shift(1))\n",
    "\n",
    "    \n",
    "    KODEX_10Y_logret = np.log(KODEX_10Y['Adj Close']/KODEX_10Y['Adj Close'].shift(1))\n",
    "    KODEX_TBS_logret = np.log(KODEX_TBS_3Y['Adj Close']/KODEX_TBS_3Y['Adj Close'].shift(1))\n",
    "    KODEX_KRW_CASH_logret = np.log(KODEX_KRW_CASH['Adj Close']/KODEX_KRW_CASH['Adj Close'].shift(1))\n",
    "    KODEX_KRW_CASH_PLUS_logret = np.log(KODEX_KRW_CASH_PLUS['Adj Close']/KODEX_KRW_CASH_PLUS['Adj Close'].shift(1))    \n",
    "    TIGER_MONEY_MARKET_logret = np.log(TIGER_MONEY_MARKET['Adj Close']/TIGER_MONEY_MARKET['Adj Close'].shift(1))\n",
    "    KIWOOM_10Y_logret = np.log(KIWOOM_10Y['Adj Close']/KIWOOM_10Y['Adj Close'].shift(1))   \n",
    "    \n",
    "    # concat all data as dataframe\n",
    "    stock_data = pd.DataFrame({'KODEX':KODEX_200_logret,\n",
    "                           'KOSDAQ':KOSDAQ_150_logret,\n",
    "                           'KODEX_SAMSUNG':KODEX_SAMSUNG_logret,\n",
    "                           'KODEX_KOSDAQ_150_LVERAGE':KODEX_KOSDAQ_150_LVERAGE_logret,\n",
    "                           'KODEX_LVERAGE':KODEX_LVERAGE_logret,\n",
    "                           'TIGER_TOP10':TIGER_TOP10_logret})\n",
    "\n",
    "    stock_data.loc[0:2,list(stock_data.columns)]=0.0 # shift1하면서 생긴 none 데이터 결측치 처리\n",
    "\n",
    "    bond_data = pd.DataFrame({'KODEX_10Y':KODEX_10Y_logret,\n",
    "                              'KODEX_TBS':KODEX_TBS_logret,\n",
    "                              'KODEX_KRW_CASH':KODEX_LVERAGE_logret,\n",
    "                              'KODEX_KRW_CASH_PLUS':KODEX_KOSDAQ_150_LVERAGE_logret,\n",
    "                              'TIGER_MONEY_MARKET':KODEX_SAMSUNG_logret,\n",
    "                              'KIWOOM_10Y':TIGER_TOP10_logret})\n",
    "\n",
    "    bond_data.loc[0:2,list(bond_data.columns)]=0.0 # shift1하면서 생긴 none 데이터 결측치 처리\n",
    "\n",
    "    stock_bond_return = pd.concat([stock_data,bond_data],axis=1)\n",
    "\n",
    "    stock_bond_return.drop(index=stock_bond_return.iloc[:2, :].index.tolist(), inplace=True)\n",
    "    stock_bond_return.dropna(axis=0, inplace=True)\n",
    "\n",
    "    mu = stock_bond_return.mean()*3    # 분기별 데이터 사용\n",
    "    sigma = stock_bond_return.cov()*3   \n",
    "    #mu = mu.values\n",
    "    #mu = mu.reshape((8,))\n",
    "    mu = mu.values.T\n",
    "    sigma = sigma.values\n",
    "    \n",
    "    return mu, sigma"
   ]
  },
  {
   "cell_type": "code",
   "execution_count": 5,
   "metadata": {},
   "outputs": [],
   "source": [
    "def robust_optimizing(mu,sigma):\n",
    "    w = cp.Variable(12)\n",
    "    w_plus = cp.Variable(12)\n",
    "    w_minus = cp.Variable(12)\n",
    "\n",
    "    # box uncertainty set\n",
    "    delta = np.array([0.005,0.005,0.005,0.005,0.005,0.005,0.01,0.01,0.01,0.01,0.01,0.01]).reshape(12,1)\n",
    "\n",
    "    lambda0 = .1\n",
    "\n",
    "    ret = mu.T*w\n",
    "    aux = delta.T * (w_plus + w_minus)\n",
    "    risk = cp.quad_form(w,sigma)\n",
    "\n",
    "    objective = cp.Minimize(risk - lambda0*ret + lambda0*aux)\n",
    "\n",
    "    prob = cp.Problem(objective,\n",
    "                     [sum(w)==1,\n",
    "                      w == w_plus - w_minus,\n",
    "                      w_plus >=0,\n",
    "                      w_minus>=0,\n",
    "                      w >= -0.05,    # 공매도는 조금만\n",
    "                      sum(w[:6]) >= sum(w[6:])*1.7   # 채권 비중이 2배 이상 높다\n",
    "                     ])\n",
    "\n",
    "    prob.solve()\n",
    "\n",
    "\n",
    "    print('\\n Robust portfolio model\\n')\n",
    "    print('\\n Robust portfolio model\\n')\n",
    "    \n",
    "    print('expected return',mu.dot(w.value))\n",
    "    print('standard deviation:',np.sqrt(w.value.dot(sigma).dot(w.value)))\n",
    "    print('optimal weight\\n')\n",
    "    print('1_bond',w.value[0])\n",
    "    print('2_bond',w.value[1])\n",
    "    print('3_bond',w.value[2])\n",
    "    print('4_bond',w.value[3])\n",
    "    print('5_bond',w.value[4])\n",
    "    print('6_bond',w.value[5])\n",
    "    \n",
    "    print('1_stock',w.value[6])\n",
    "    print('2_stock',w.value[7])\n",
    "    print('3_stock',w.value[8])\n",
    "    print('4_stock',w.value[9])\n",
    "    print('5_stock',w.value[10])\n",
    "    print('6_stock',w.value[11])\n",
    "\n",
    "    print('\\nbond:',sum([w.value[i] for i in range(6)]))\n",
    "    print('stock:',sum([w.value[i+6] for i in range(6)]))\n",
    "    \n",
    "    return w.value"
   ]
  },
  {
   "cell_type": "markdown",
   "metadata": {},
   "source": [
    "# Simulation"
   ]
  },
  {
   "cell_type": "code",
   "execution_count": 18,
   "metadata": {},
   "outputs": [],
   "source": [
    "# random returns on bonds and stocks based on 2018,2019 historical data\n",
    "\n",
    "num_samples = 3\n",
    "sample_returns = pd.DataFrame()\n",
    "\n",
    "for i in range(1000):\n",
    "    \n",
    "    np.random.seed(i)\n",
    "    random_returns = np.random.multivariate_normal(mu_0,sigma_0,num_samples).T\n",
    "    tmp = pd.DataFrame(random_returns).T\n",
    "    sample_returns = pd.concat([sample_returns,tmp],axis=0)\n",
    "sample_returns.columns = ['bond1','bond2','bond3','bond4','bond5','bond6',\n",
    "                          'stock1','stock2','stock3','stock4','stock5','stock6']"
   ]
  },
  {
   "cell_type": "code",
   "execution_count": 22,
   "metadata": {},
   "outputs": [
    {
     "data": {
      "text/html": [
       "<div>\n",
       "<style scoped>\n",
       "    .dataframe tbody tr th:only-of-type {\n",
       "        vertical-align: middle;\n",
       "    }\n",
       "\n",
       "    .dataframe tbody tr th {\n",
       "        vertical-align: top;\n",
       "    }\n",
       "\n",
       "    .dataframe thead th {\n",
       "        text-align: right;\n",
       "    }\n",
       "</style>\n",
       "<table border=\"1\" class=\"dataframe\">\n",
       "  <thead>\n",
       "    <tr style=\"text-align: right;\">\n",
       "      <th></th>\n",
       "      <th>bond1</th>\n",
       "      <th>bond2</th>\n",
       "      <th>bond3</th>\n",
       "      <th>bond4</th>\n",
       "      <th>bond5</th>\n",
       "      <th>bond6</th>\n",
       "      <th>stock1</th>\n",
       "      <th>stock2</th>\n",
       "      <th>stock3</th>\n",
       "      <th>stock4</th>\n",
       "      <th>stock5</th>\n",
       "      <th>stock6</th>\n",
       "    </tr>\n",
       "  </thead>\n",
       "  <tbody>\n",
       "    <tr>\n",
       "      <th>0</th>\n",
       "      <td>-0.098712</td>\n",
       "      <td>-0.258657</td>\n",
       "      <td>-0.119050</td>\n",
       "      <td>-0.536912</td>\n",
       "      <td>-0.171205</td>\n",
       "      <td>-0.110114</td>\n",
       "      <td>0.031085</td>\n",
       "      <td>0.011948</td>\n",
       "      <td>-0.171205</td>\n",
       "      <td>-0.536912</td>\n",
       "      <td>-0.119050</td>\n",
       "      <td>-0.110114</td>\n",
       "    </tr>\n",
       "    <tr>\n",
       "      <th>1</th>\n",
       "      <td>-0.050586</td>\n",
       "      <td>-0.147664</td>\n",
       "      <td>-0.059276</td>\n",
       "      <td>-0.318028</td>\n",
       "      <td>-0.095534</td>\n",
       "      <td>-0.051278</td>\n",
       "      <td>0.034136</td>\n",
       "      <td>0.012245</td>\n",
       "      <td>-0.095534</td>\n",
       "      <td>-0.318028</td>\n",
       "      <td>-0.059276</td>\n",
       "      <td>-0.051278</td>\n",
       "    </tr>\n",
       "    <tr>\n",
       "      <th>2</th>\n",
       "      <td>-0.170757</td>\n",
       "      <td>-0.259878</td>\n",
       "      <td>-0.176803</td>\n",
       "      <td>-0.560687</td>\n",
       "      <td>-0.347736</td>\n",
       "      <td>-0.193687</td>\n",
       "      <td>0.055195</td>\n",
       "      <td>0.011990</td>\n",
       "      <td>-0.347736</td>\n",
       "      <td>-0.560687</td>\n",
       "      <td>-0.176803</td>\n",
       "      <td>-0.193687</td>\n",
       "    </tr>\n",
       "    <tr>\n",
       "      <th>0</th>\n",
       "      <td>-0.134826</td>\n",
       "      <td>-0.227204</td>\n",
       "      <td>-0.106971</td>\n",
       "      <td>-0.460820</td>\n",
       "      <td>-0.240097</td>\n",
       "      <td>-0.115198</td>\n",
       "      <td>0.051997</td>\n",
       "      <td>0.017479</td>\n",
       "      <td>-0.240097</td>\n",
       "      <td>-0.460820</td>\n",
       "      <td>-0.106971</td>\n",
       "      <td>-0.115198</td>\n",
       "    </tr>\n",
       "    <tr>\n",
       "      <th>1</th>\n",
       "      <td>-0.013541</td>\n",
       "      <td>-0.032300</td>\n",
       "      <td>-0.023655</td>\n",
       "      <td>-0.069512</td>\n",
       "      <td>-0.012316</td>\n",
       "      <td>0.004452</td>\n",
       "      <td>0.012628</td>\n",
       "      <td>0.003642</td>\n",
       "      <td>-0.012316</td>\n",
       "      <td>-0.069512</td>\n",
       "      <td>-0.023655</td>\n",
       "      <td>0.004452</td>\n",
       "    </tr>\n",
       "  </tbody>\n",
       "</table>\n",
       "</div>"
      ],
      "text/plain": [
       "      bond1     bond2     bond3     bond4     bond5     bond6    stock1  \\\n",
       "0 -0.098712 -0.258657 -0.119050 -0.536912 -0.171205 -0.110114  0.031085   \n",
       "1 -0.050586 -0.147664 -0.059276 -0.318028 -0.095534 -0.051278  0.034136   \n",
       "2 -0.170757 -0.259878 -0.176803 -0.560687 -0.347736 -0.193687  0.055195   \n",
       "0 -0.134826 -0.227204 -0.106971 -0.460820 -0.240097 -0.115198  0.051997   \n",
       "1 -0.013541 -0.032300 -0.023655 -0.069512 -0.012316  0.004452  0.012628   \n",
       "\n",
       "     stock2    stock3    stock4    stock5    stock6  \n",
       "0  0.011948 -0.171205 -0.536912 -0.119050 -0.110114  \n",
       "1  0.012245 -0.095534 -0.318028 -0.059276 -0.051278  \n",
       "2  0.011990 -0.347736 -0.560687 -0.176803 -0.193687  \n",
       "0  0.017479 -0.240097 -0.460820 -0.106971 -0.115198  \n",
       "1  0.003642 -0.012316 -0.069512 -0.023655  0.004452  "
      ]
     },
     "execution_count": 22,
     "metadata": {},
     "output_type": "execute_result"
    }
   ],
   "source": [
    "sample_returns.head()"
   ]
  },
  {
   "cell_type": "code",
   "execution_count": 38,
   "metadata": {
    "scrolled": false
   },
   "outputs": [
    {
     "name": "stderr",
     "output_type": "stream",
     "text": [
      "100%|██████████████████████████████████████████████████████████████████████████████| 3000/3000 [02:49<00:00, 17.72it/s]\n"
     ]
    }
   ],
   "source": [
    "each_sample_wealth = []\n",
    "num_samples = len(sample_returns) \n",
    "rebalancing_period =4\n",
    "\n",
    "mu_list = []\n",
    "volatility_list = []\n",
    "\n",
    "for i in tqdm(range(num_samples)):\n",
    "    \n",
    "    investing_amount = 10000\n",
    "    mu = (sample_returns.to_numpy()[i])\n",
    "\n",
    "    for rebalance in range(rebalancing_period):\n",
    "        investing_amount = investing_amount\n",
    "\n",
    "        w = cp.Variable(12)\n",
    "        w_plus = cp.Variable(12)\n",
    "        w_minus = cp.Variable(12)\n",
    "\n",
    "        # box uncertainty set\n",
    "        delta = np.array([0.005,0.005,0.005,0.005,0.005,0.005,0.01,0.01,0.01,0.01,0.01,0.01]).reshape(12,1)\n",
    "\n",
    "        lambda0 = .1\n",
    "        ret = mu.T*w\n",
    "        \n",
    "        aux = delta.T * (w_plus + w_minus)\n",
    "        risk = cp.quad_form(w,sigma_0)\n",
    "\n",
    "        objective = cp.Minimize(risk - lambda0*ret + lambda0*aux)\n",
    "\n",
    "        prob = cp.Problem(objective,\n",
    "                         [sum(w)==1,\n",
    "                          w == w_plus - w_minus,\n",
    "                          w_plus >=0,\n",
    "                          w_minus>=0,\n",
    "                          w >= -0.05,    # 공매도는 조금만\n",
    "                          sum(w[:6]) >= sum(w[6:])*1.7   # 채권 비중이 1.7배 이상 높다\n",
    "                          ])\n",
    "        prob.solve()\n",
    "        \n",
    "        #print('expected return',mu.dot(w.value))\n",
    "        #print('standard deviation:',np.sqrt(w.value.dot(sigma_0).dot(w.value)))\n",
    "        \n",
    "        volatility_list.append(np.sqrt(w.value.dot(sigma_0).dot(w.value)))\n",
    "        mu_list.append(mu.dot(w.value))\n",
    "        \n",
    "        investing_amount = np.dot(mu,w.value*investing_amount) + investing_amount\n",
    "        mu = np.array([np.dot(mu[0],w.value[0]) for i in range(12)])   # rebalancing할 때마다, update\n",
    "        \n",
    "    each_sample_wealth.append(investing_amount)"
   ]
  },
  {
   "cell_type": "code",
   "execution_count": 39,
   "metadata": {
    "scrolled": true
   },
   "outputs": [
    {
     "data": {
      "text/plain": [
       "3000"
      ]
     },
     "execution_count": 39,
     "metadata": {},
     "output_type": "execute_result"
    }
   ],
   "source": [
    "len(each_sample_wealth)"
   ]
  },
  {
   "cell_type": "code",
   "execution_count": 40,
   "metadata": {},
   "outputs": [],
   "source": [
    "first_rebalancing_mu = []\n",
    "second_rebalancing_mu = []\n",
    "third_rebalancing_mu = []\n",
    "fourth_rebalancing_mu = []\n",
    "\n",
    "first_rebalancing_sg = []\n",
    "second_rebalancing_sg = []\n",
    "third_rebalancing_sg = []\n",
    "fourth_rebalancing_sg = []\n",
    "\n",
    "for i in range(len(mu_list)):\n",
    "    \n",
    "    if i%4 == 0:\n",
    "        first_rebalancing_mu.append(mu_list[i])\n",
    "        first_rebalancing_sg.append(volatility_list[i])\n",
    "    \n",
    "    elif i%4 == 1:\n",
    "        second_rebalancing_mu.append(mu_list[i])\n",
    "        second_rebalancing_sg.append(volatility_list[i])\n",
    "        \n",
    "    elif i%4 == 2:\n",
    "        third_rebalancing_mu.append(mu_list[i])\n",
    "        third_rebalancing_sg.append(volatility_list[i])\n",
    "        \n",
    "    elif i%4 == 3:\n",
    "        fourth_rebalancing_mu.append(mu_list[i])\n",
    "        fourth_rebalancing_sg.append(volatility_list[i])"
   ]
  },
  {
   "cell_type": "code",
   "execution_count": 41,
   "metadata": {},
   "outputs": [],
   "source": [
    "# rebalancing 기간별 평균\n",
    "first_mu = sum(first_rebalancing_mu)/len(first_rebalancing_mu)\n",
    "second_mu = sum(second_rebalancing_mu)/len(second_rebalancing_mu)\n",
    "third_mu = sum(third_rebalancing_mu)/len(third_rebalancing_mu)\n",
    "fourht_mu = sum(fourth_rebalancing_mu)/len(fourth_rebalancing_mu)\n",
    "\n",
    "first_sg = sum(first_rebalancing_sg)/len(first_rebalancing_sg)\n",
    "second_sg = sum(second_rebalancing_sg)/len(second_rebalancing_sg)\n",
    "third_sg = sum(third_rebalancing_sg)/len(third_rebalancing_sg)\n",
    "fourth_sg = sum(fourth_rebalancing_sg)/len(fourth_rebalancing_sg)"
   ]
  },
  {
   "cell_type": "code",
   "execution_count": 42,
   "metadata": {},
   "outputs": [
    {
     "name": "stdout",
     "output_type": "stream",
     "text": [
      "first-period average expected return: 0.05792412921447482\n",
      "first-period average standard deviation: 0.0361550796295948\n",
      "\n",
      "\n",
      "second-period average expected return: -0.00445583114329965\n",
      "second-period average standard deviation: 0.017225055626246558\n",
      "\n",
      "\n",
      "third-period average expected return: -0.002633963576228031\n",
      "third-period average standard deviation: 0.017225055626246558\n",
      "\n",
      "\n",
      "fourth-period average expected return: -0.001557007861783189\n",
      "fourth-period average standard deviation: 0.017225055626246558\n"
     ]
    }
   ],
   "source": [
    "print('first-period average expected return:',first_mu)\n",
    "print('first-period average standard deviation:',first_sg)\n",
    "print('\\n')\n",
    "\n",
    "print('second-period average expected return:',second_mu)\n",
    "print('second-period average standard deviation:',second_sg)\n",
    "print('\\n')\n",
    "\n",
    "print('third-period average expected return:',third_mu)\n",
    "print('third-period average standard deviation:',third_sg)\n",
    "print('\\n')\n",
    "\n",
    "print('fourth-period average expected return:',fourht_mu)\n",
    "print('fourth-period average standard deviation:',fourth_sg)"
   ]
  },
  {
   "cell_type": "code",
   "execution_count": 43,
   "metadata": {
    "scrolled": false
   },
   "outputs": [
    {
     "name": "stdout",
     "output_type": "stream",
     "text": [
      "10496.921248752109\n"
     ]
    }
   ],
   "source": [
    "average_wealth = sum(each_sample_wealth)/len(each_sample_wealth)\n",
    "print(average_wealth)"
   ]
  },
  {
   "cell_type": "code",
   "execution_count": 44,
   "metadata": {},
   "outputs": [
    {
     "data": {
      "text/plain": [
       "Text(0.5, 0, 'total wealth at the end of 2020')"
      ]
     },
     "execution_count": 44,
     "metadata": {},
     "output_type": "execute_result"
    },
    {
     "data": {
      "image/png": "[encoded data removed]",
      "text/plain": [
       "<Figure size 432x288 with 1 Axes>"
      ]
     },
     "metadata": {
      "needs_background": "light"
     },
     "output_type": "display_data"
    }
   ],
   "source": [
    "import matplotlib.pyplot as plt\n",
    "\n",
    "plt.hist(each_sample_wealth)\n",
    "plt.xlabel('total wealth at the end of 2020',fontsize=14)"
   ]
  },
  {
   "cell_type": "markdown",
   "metadata": {},
   "source": [
    "# Progress report"
   ]
  },
  {
   "cell_type": "markdown",
   "metadata": {},
   "source": [
    "#### 1st portfolio selection : investing money on 2020/01/01 with past dat"
   ]
  },
  {
   "cell_type": "code",
   "execution_count": 34,
   "metadata": {},
   "outputs": [
    {
     "name": "stdout",
     "output_type": "stream",
     "text": [
      "\n",
      " Robust portfolio model\n",
      "\n",
      "\n",
      " Robust portfolio model\n",
      "\n",
      "expected return 0.024700812325026047\n",
      "standard deviation: 0.025472203739669824\n",
      "optimal weight\n",
      "\n",
      "1_bond -3.241073478541443e-22\n",
      "2_bond -0.05\n",
      "3_bond 0.680061009578863\n",
      "4_bond -0.05\n",
      "5_bond -0.050000000000000024\n",
      "6_bond 0.13660565708780392\n",
      "1_stock 0.5333333333333333\n",
      "2_stock 9.011191830703347e-22\n",
      "3_stock -0.050000000000000024\n",
      "4_stock -0.05000000000000001\n",
      "5_stock -0.050000000000000024\n",
      "6_stock -0.05\n",
      "\n",
      "bond: 0.6666666666666667\n",
      "stock: 0.33333333333333326\n"
     ]
    }
   ],
   "source": [
    "mu_0, sigma_0 = calculate_mu_sigma(start='1/1/2018',end='12/31/2019')\n",
    "weight_0 = robust_optimizing(mu_0,sigma_0)     # 2020/01/01 투자 비중"
   ]
  },
  {
   "cell_type": "markdown",
   "metadata": {},
   "source": [
    "#### 2nd portfolio selection : investing money on 2020/04/01 with past dat"
   ]
  },
  {
   "cell_type": "code",
   "execution_count": 35,
   "metadata": {},
   "outputs": [
    {
     "name": "stdout",
     "output_type": "stream",
     "text": [
      "\n",
      " Robust portfolio model\n",
      "\n",
      "\n",
      " Robust portfolio model\n",
      "\n",
      "expected return 0.021578889964799744\n",
      "standard deviation: 0.036038933305931706\n",
      "optimal weight\n",
      "\n",
      "1_bond -4.848169115503968e-22\n",
      "2_bond -0.05\n",
      "3_bond 0.6771309507969863\n",
      "4_bond -0.04999999999999998\n",
      "5_bond -0.05\n",
      "6_bond 0.1395357158696807\n",
      "1_stock 0.5333333333333333\n",
      "2_stock 7.796586064554329e-22\n",
      "3_stock -0.05000000000000002\n",
      "4_stock -0.049999999999999996\n",
      "5_stock -0.05000000000000001\n",
      "6_stock -0.049999999999999996\n",
      "\n",
      "bond: 0.666666666666667\n",
      "stock: 0.3333333333333333\n"
     ]
    }
   ],
   "source": [
    "mu_1, sigma_1 = calculate_mu_sigma(start='4/1/2018',end='3/31/2020') \n",
    "weight_1 = robust_optimizing(mu_1,sigma_1)    # 2020/04/01 투자 비중"
   ]
  },
  {
   "cell_type": "markdown",
   "metadata": {},
   "source": [
    "#### 3rd portfolio selection : investing money on 2020/07/01 with past dat"
   ]
  },
  {
   "cell_type": "code",
   "execution_count": 36,
   "metadata": {},
   "outputs": [
    {
     "name": "stdout",
     "output_type": "stream",
     "text": [
      "\n",
      " Robust portfolio model\n",
      "\n",
      "\n",
      " Robust portfolio model\n",
      "\n",
      "expected return 0.01768972456366152\n",
      "standard deviation: 0.031291004436371374\n",
      "optimal weight\n",
      "\n",
      "1_bond -1.233993543390191e-20\n",
      "2_bond 0.09090272453326077\n",
      "3_bond 0.3106490354896836\n",
      "4_bond -0.04999999999999998\n",
      "5_bond -0.05\n",
      "6_bond 0.3651149066437224\n",
      "1_stock 0.5333333333333333\n",
      "2_stock -4.9694542106911046e-21\n",
      "3_stock -0.049999999999999996\n",
      "4_stock -0.04999999999999999\n",
      "5_stock -0.050000000000000024\n",
      "6_stock -0.049999999999999996\n",
      "\n",
      "bond: 0.6666666666666667\n",
      "stock: 0.3333333333333333\n"
     ]
    }
   ],
   "source": [
    "mu_2, sigma_2 = calculate_mu_sigma(start='7/1/2018',end='6/30/2020') \n",
    "weight_2 = robust_optimizing(mu_2,sigma_2)     # 2020/07/01 투자 비중"
   ]
  },
  {
   "cell_type": "markdown",
   "metadata": {},
   "source": [
    "#### 4th portfolio selection : investing money on 2020/010/01 with past dat"
   ]
  },
  {
   "cell_type": "code",
   "execution_count": 37,
   "metadata": {},
   "outputs": [
    {
     "name": "stdout",
     "output_type": "stream",
     "text": [
      "\n",
      " Robust portfolio model\n",
      "\n",
      "\n",
      " Robust portfolio model\n",
      "\n",
      "expected return 0.03305467141005887\n",
      "standard deviation: 0.03375473607624913\n",
      "optimal weight\n",
      "\n",
      "1_bond -0.049999999999999996\n",
      "2_bond 0.11624447691820985\n",
      "3_bond -0.05000000000000002\n",
      "4_bond -0.04999999999999999\n",
      "5_bond -0.04999999999999999\n",
      "6_bond 0.7504221897484568\n",
      "1_stock 0.5189655040764579\n",
      "2_stock 1.4722131221687718e-23\n",
      "3_stock -0.049999999999999996\n",
      "4_stock -0.05000000000000001\n",
      "5_stock -0.050000000000000024\n",
      "6_stock -0.03563217074312466\n",
      "\n",
      "bond: 0.6666666666666666\n",
      "stock: 0.33333333333333326\n"
     ]
    }
   ],
   "source": [
    "mu_3, sigma_3 = calculate_mu_sigma(start='10/1/2018',end='9/30/2020') \n",
    "weight_3 = robust_optimizing(mu_3,sigma_3)    # 2020/10/01 투자 비중"
   ]
  },
  {
   "cell_type": "markdown",
   "metadata": {},
   "source": [
    "#### Open, Close datafrmae"
   ]
  },
  {
   "cell_type": "code",
   "execution_count": 46,
   "metadata": {},
   "outputs": [],
   "source": [
    "closed_df_1 = price_data(start='1/1/2020',end='3/31/2020')\n",
    "closed_df_2 = price_data(start='4/1/2020',end='6/30/2020')\n",
    "closed_df_3 = price_data(start='7/1/2020',end='9/30/2020')\n",
    "closed_df_4 = price_data(start='10/1/2020',end='12/31/2020')"
   ]
  },
  {
   "cell_type": "code",
   "execution_count": 47,
   "metadata": {},
   "outputs": [],
   "source": [
    "gain_1 = calculate_gain(10000,weight_0,closed_df_1)   # 2020/03/31 wealth\n",
    "gain_2 = calculate_gain(gain_1,weight_1,closed_df_2)  # 2020/06/30 wealth\n",
    "gain_3 = calculate_gain(gain_2,weight_2,closed_df_3)  # 2020/09/30 wealth\n",
    "gain_4 = calculate_gain(gain_3,weight_3,closed_df_4)  # 2020/12/31 wealth"
   ]
  },
  {
   "cell_type": "code",
   "execution_count": 48,
   "metadata": {},
   "outputs": [
    {
     "data": {
      "text/plain": [
       "9528.01876410589"
      ]
     },
     "execution_count": 48,
     "metadata": {},
     "output_type": "execute_result"
    }
   ],
   "source": [
    "gain_1"
   ]
  },
  {
   "cell_type": "code",
   "execution_count": 49,
   "metadata": {},
   "outputs": [
    {
     "data": {
      "text/plain": [
       "9778.639577110458"
      ]
     },
     "execution_count": 49,
     "metadata": {},
     "output_type": "execute_result"
    }
   ],
   "source": [
    "gain_2"
   ]
  },
  {
   "cell_type": "code",
   "execution_count": 50,
   "metadata": {},
   "outputs": [
    {
     "data": {
      "text/plain": [
       "9992.173033956738"
      ]
     },
     "execution_count": 50,
     "metadata": {},
     "output_type": "execute_result"
    }
   ],
   "source": [
    "gain_3"
   ]
  },
  {
   "cell_type": "code",
   "execution_count": 51,
   "metadata": {},
   "outputs": [
    {
     "data": {
      "text/plain": [
       "10391.013022123934"
      ]
     },
     "execution_count": 51,
     "metadata": {},
     "output_type": "execute_result"
    }
   ],
   "source": [
    "gain_4"
   ]
  },
  {
   "cell_type": "markdown",
   "metadata": {},
   "source": [
    "# Portfolio evaluation  \n"
   ]
  },
  {
   "cell_type": "markdown",
   "metadata": {},
   "source": [
    "#### Time-weighted rate of return"
   ]
  },
  {
   "cell_type": "code",
   "execution_count": 58,
   "metadata": {},
   "outputs": [
    {
     "data": {
      "text/plain": [
       "-0.011129959139702827"
      ]
     },
     "execution_count": 58,
     "metadata": {},
     "output_type": "execute_result"
    }
   ],
   "source": [
    "cash_list = [10000,gain_1,gain_2]\n",
    "return_list = []\n",
    "for i in range(2):\n",
    "    return_list.append((cash_list[i+1]-cash_list[i])/cash_list[i])\n",
    "time_weighted_return = ((1+return_list[0])*(1+return_list[1]))**(1/2)-1\n",
    "time_weighted_return"
   ]
  },
  {
   "cell_type": "code",
   "execution_count": 167,
   "metadata": {},
   "outputs": [],
   "source": [
    "cash_list = [10000,gain_1,gain_2,gain_3,gain_4]\n",
    "return_list = []\n",
    "for i in range(4):\n",
    "    return_list.append((cash_list[i+1]-cash_list[i])/cash_list[i])"
   ]
  },
  {
   "cell_type": "code",
   "execution_count": 168,
   "metadata": {},
   "outputs": [
    {
     "data": {
      "text/plain": [
       "[-0.09087781827534745,\n",
       " -0.2305499742838632,\n",
       " 0.10032175704855088,\n",
       " 0.20186868084609702]"
      ]
     },
     "execution_count": 168,
     "metadata": {},
     "output_type": "execute_result"
    }
   ],
   "source": [
    "return_list"
   ]
  },
  {
   "cell_type": "code",
   "execution_count": 169,
   "metadata": {},
   "outputs": [
    {
     "data": {
      "text/plain": [
       "-0.019280415905349346"
      ]
     },
     "execution_count": 169,
     "metadata": {},
     "output_type": "execute_result"
    }
   ],
   "source": [
    "time_weighted_return = ((1+return_list[0])*(1+return_list[1])*(1+return_list[2])*(1+return_list[3]))**(1/4)-1\n",
    "time_weighted_return"
   ]
  },
  {
   "cell_type": "markdown",
   "metadata": {},
   "source": [
    "### Change Strategy on 2020.06.01"
   ]
  },
  {
   "cell_type": "code",
   "execution_count": 66,
   "metadata": {},
   "outputs": [
    {
     "name": "stderr",
     "output_type": "stream",
     "text": [
      "100%|██████████████████████████████████████████████████████████████████████████████| 2000/2000 [00:57<00:00, 35.03it/s]\n"
     ]
    }
   ],
   "source": [
    "# random returns on bonds and stocks based on 2018,2019 historical data\n",
    "\n",
    "num_samples = 2\n",
    "sample_returns = pd.DataFrame()\n",
    "\n",
    "for i in range(1000):\n",
    "    \n",
    "    np.random.seed(i+100000)\n",
    "    random_returns = np.random.multivariate_normal(mu_2,sigma_2,num_samples).T\n",
    "    tmp = pd.DataFrame(random_returns).T\n",
    "    sample_returns = pd.concat([sample_returns,tmp],axis=0)\n",
    "sample_returns.columns = ['bond1','bond2','bond3','bond4','bond5','bond6',\n",
    "                          'stock1','stock2','stock3','stock4','stock5','stock6']\n",
    "\n",
    "\n",
    "aaa = []\n",
    "each_sample_wealth = []\n",
    "num_samples = len(sample_returns) \n",
    "rebalancing_period = 2\n",
    "\n",
    "mu_list = []\n",
    "volatility_list = []\n",
    "\n",
    "for i in tqdm(range(num_samples)):\n",
    "    \n",
    "    investing_amount = gain_2\n",
    "    mu = (sample_returns.to_numpy()[i])\n",
    "\n",
    "    for rebalance in range(rebalancing_period):\n",
    "        investing_amount = investing_amount\n",
    "\n",
    "        w = cp.Variable(12)\n",
    "        w_plus = cp.Variable(12)\n",
    "        w_minus = cp.Variable(12)\n",
    "\n",
    "        # box uncertainty set\n",
    "        delta = np.array([0.01,0.01,0.01,0.01,0.01,0.01,0.03,0.03,0.03,0.03,0.03,0.03]).reshape(12,1)\n",
    "\n",
    "        lambda0 = .1\n",
    "        ret = mu.T*w\n",
    "        \n",
    "        aux = delta.T * (w_plus + w_minus)\n",
    "        risk = cp.quad_form(w,sigma_0)\n",
    "\n",
    "        objective = cp.Minimize(risk - lambda0*ret + lambda0*aux)\n",
    "\n",
    "        prob = cp.Problem(objective,\n",
    "                         [sum(w)==1,\n",
    "                          w == w_plus - w_minus,\n",
    "                          w_plus >=0,\n",
    "                          w_minus>=0,\n",
    "                          w >= -0.05,    # 공매도는 조금만\n",
    "                          sum(w[:6]) >= sum(w[6:])*1.2  # 채권 비중이 1.5배 이상 높다\n",
    "                          #sum(w[6:])>=0.4,   # 채권 비중이 2배 이상 높다\n",
    "                          #sum(w[6:])<=0.6 \n",
    "                          ])\n",
    "        prob.solve()\n",
    "        \n",
    "        #print('expected return',mu.dot(w.value))\n",
    "        #print('standard deviation:',np.sqrt(w.value.dot(sigma_0).dot(w.value)))\n",
    "        \n",
    "        volatility_list.append(np.sqrt(w.value.dot(sigma_0).dot(w.value)))\n",
    "        mu_list.append(mu.dot(w.value))\n",
    "        \n",
    "        investing_amount = np.dot(mu,w.value*investing_amount) + investing_amount\n",
    "        mu = np.array([np.dot(mu[0],w.value[0]) for i in range(12)])   # rebalancing할 때마다, update\n",
    "        \n",
    "    each_sample_wealth.append(investing_amount)"
   ]
  },
  {
   "cell_type": "code",
   "execution_count": 67,
   "metadata": {},
   "outputs": [],
   "source": [
    "first_rebalancing_mu = []\n",
    "second_rebalancing_mu = []\n",
    "\n",
    "first_rebalancing_sg = []\n",
    "second_rebalancing_sg = []\n",
    "\n",
    "for i in range(len(mu_list)):\n",
    "    \n",
    "    if i%4 == 0:\n",
    "        first_rebalancing_mu.append(mu_list[i])\n",
    "        first_rebalancing_sg.append(volatility_list[i])\n",
    "    \n",
    "    elif i%4 == 1:\n",
    "        second_rebalancing_mu.append(mu_list[i])\n",
    "        second_rebalancing_sg.append(volatility_list[i])"
   ]
  },
  {
   "cell_type": "code",
   "execution_count": 68,
   "metadata": {},
   "outputs": [],
   "source": [
    "# rebalancing 기간별 평균\n",
    "first_mu = sum(first_rebalancing_mu)/len(first_rebalancing_mu)\n",
    "second_mu = sum(second_rebalancing_mu)/len(second_rebalancing_mu)\n",
    "\n",
    "first_sg = sum(first_rebalancing_sg)/len(first_rebalancing_sg)\n",
    "second_sg = sum(second_rebalancing_sg)/len(second_rebalancing_sg)"
   ]
  },
  {
   "cell_type": "code",
   "execution_count": 69,
   "metadata": {},
   "outputs": [
    {
     "name": "stdout",
     "output_type": "stream",
     "text": [
      "first-period average expected return: 0.09669400454486762\n",
      "first-period average standard deviation: 0.0481591942050389\n",
      "\n",
      "\n",
      "second-period average expected return: -0.0028259510703429725\n",
      "second-period average standard deviation: 0.024411833282680814\n",
      "\n",
      "\n"
     ]
    }
   ],
   "source": [
    "print('first-period average expected return:',first_mu)\n",
    "print('first-period average standard deviation:',first_sg)\n",
    "print('\\n')\n",
    "\n",
    "print('second-period average expected return:',second_mu)\n",
    "print('second-period average standard deviation:',second_sg)\n",
    "print('\\n')"
   ]
  },
  {
   "cell_type": "code",
   "execution_count": 70,
   "metadata": {},
   "outputs": [
    {
     "name": "stdout",
     "output_type": "stream",
     "text": [
      "10689.73481267045\n"
     ]
    }
   ],
   "source": [
    "average_wealth = sum(each_sample_wealth)/len(each_sample_wealth)\n",
    "print(average_wealth)"
   ]
  },
  {
   "cell_type": "code",
   "execution_count": 71,
   "metadata": {},
   "outputs": [
    {
     "data": {
      "text/plain": [
       "Text(0.5, 0, 'total wealth at the end of 2020')"
      ]
     },
     "execution_count": 71,
     "metadata": {},
     "output_type": "execute_result"
    },
    {
     "data": {
      "image/png": "[encoded data removed]",
      "text/plain": [
       "<Figure size 432x288 with 1 Axes>"
      ]
     },
     "metadata": {
      "needs_background": "light"
     },
     "output_type": "display_data"
    }
   ],
   "source": [
    "import matplotlib.pyplot as plt\n",
    "\n",
    "plt.hist(each_sample_wealth)\n",
    "plt.xlabel('total wealth at the end of 2020',fontsize=14)"
   ]
  },
  {
   "cell_type": "code",
   "execution_count": null,
   "metadata": {},
   "outputs": [],
   "source": []
  }
 ],
 "metadata": {
  "kernelspec": {
   "display_name": "Python 3",
   "language": "python",
   "name": "python3"
  },
  "language_info": {
   "codemirror_mode": {
    "name": "ipython",
    "version": 3
   },
   "file_extension": ".py",
   "mimetype": "text/x-python",
   "name": "python",
   "nbconvert_exporter": "python",
   "pygments_lexer": "ipython3",
   "version": "3.8.0"
  }
 },
 "nbformat": 4,
 "nbformat_minor": 4
}
