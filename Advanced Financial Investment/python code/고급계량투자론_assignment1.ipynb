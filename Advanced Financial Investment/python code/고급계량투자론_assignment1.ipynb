{
 "cells": [
  {
   "cell_type": "markdown",
   "metadata": {},
   "source": [
    "### 1-a)"
   ]
  },
  {
   "cell_type": "code",
   "execution_count": 1,
   "metadata": {},
   "outputs": [
    {
     "name": "stderr",
     "output_type": "stream",
     "text": [
      "C:\\ana3\\envs\\t_f2.2\\lib\\site-packages\\numpy\\_distributor_init.py:30: UserWarning: loaded more than 1 DLL from .libs:\n",
      "C:\\ana3\\envs\\t_f2.2\\lib\\site-packages\\numpy\\.libs\\libopenblas.NOIJJG62EMASZI6NYURL6JBKM4EVBGM7.gfortran-win_amd64.dll\n",
      "C:\\ana3\\envs\\t_f2.2\\lib\\site-packages\\numpy\\.libs\\libopenblas.WCDJNK7YVMPZQ2ME2ZZHJJRJ3JIKNDB7.gfortran-win_amd64.dll\n",
      "  warnings.warn(\"loaded more than 1 DLL from .libs:\"\n"
     ]
    }
   ],
   "source": [
    "import pandas as pd\n",
    "import numpy as np\n",
    "import FinanceDataReader  as fdr\n",
    "import cvxpy as cp"
   ]
  },
  {
   "cell_type": "markdown",
   "metadata": {},
   "source": [
    "### 1-b)"
   ]
  },
  {
   "cell_type": "code",
   "execution_count": 17,
   "metadata": {},
   "outputs": [],
   "source": [
    "samsung_df = fdr.DataReader('005930', '2017')\n",
    "hyundai_df = fdr.DataReader('005380', '2017')\n",
    "sk_hynix_df = fdr.DataReader('000660', '2017')\n",
    "kakao_df = fdr.DataReader('035720', '2017')\n",
    "naver_df = fdr.DataReader('035420', '2017')"
   ]
  },
  {
   "cell_type": "code",
   "execution_count": 18,
   "metadata": {},
   "outputs": [],
   "source": [
    "close_df = pd.DataFrame({'Samsung':samsung_df['Close'],\n",
    "                      'Hyundai':hyundai_df['Close'],\n",
    "                      'SK hynix':sk_hynix_df['Close'],\n",
    "                        'KaKao' : kakao_df['Close'],\n",
    "                        'Naver':naver_df['Close']})"
   ]
  },
  {
   "cell_type": "code",
   "execution_count": 19,
   "metadata": {
    "scrolled": true
   },
   "outputs": [
    {
     "data": {
      "text/html": [
       "<div>\n",
       "<style scoped>\n",
       "    .dataframe tbody tr th:only-of-type {\n",
       "        vertical-align: middle;\n",
       "    }\n",
       "\n",
       "    .dataframe tbody tr th {\n",
       "        vertical-align: top;\n",
       "    }\n",
       "\n",
       "    .dataframe thead th {\n",
       "        text-align: right;\n",
       "    }\n",
       "</style>\n",
       "<table border=\"1\" class=\"dataframe\">\n",
       "  <thead>\n",
       "    <tr style=\"text-align: right;\">\n",
       "      <th></th>\n",
       "      <th>Samsung</th>\n",
       "      <th>Hyundai</th>\n",
       "      <th>SK hynix</th>\n",
       "      <th>KaKao</th>\n",
       "      <th>Naver</th>\n",
       "    </tr>\n",
       "    <tr>\n",
       "      <th>Date</th>\n",
       "      <th></th>\n",
       "      <th></th>\n",
       "      <th></th>\n",
       "      <th></th>\n",
       "      <th></th>\n",
       "    </tr>\n",
       "  </thead>\n",
       "  <tbody>\n",
       "    <tr>\n",
       "      <th>2017-01-02</th>\n",
       "      <td>36100</td>\n",
       "      <td>150000</td>\n",
       "      <td>45800</td>\n",
       "      <td>15394</td>\n",
       "      <td>155620</td>\n",
       "    </tr>\n",
       "    <tr>\n",
       "      <th>2017-01-03</th>\n",
       "      <td>36480</td>\n",
       "      <td>153000</td>\n",
       "      <td>47250</td>\n",
       "      <td>16057</td>\n",
       "      <td>153617</td>\n",
       "    </tr>\n",
       "    <tr>\n",
       "      <th>2017-01-04</th>\n",
       "      <td>36160</td>\n",
       "      <td>154000</td>\n",
       "      <td>46500</td>\n",
       "      <td>16920</td>\n",
       "      <td>162230</td>\n",
       "    </tr>\n",
       "    <tr>\n",
       "      <th>2017-01-05</th>\n",
       "      <td>35560</td>\n",
       "      <td>153500</td>\n",
       "      <td>46950</td>\n",
       "      <td>16860</td>\n",
       "      <td>158424</td>\n",
       "    </tr>\n",
       "    <tr>\n",
       "      <th>2017-01-06</th>\n",
       "      <td>36200</td>\n",
       "      <td>151000</td>\n",
       "      <td>48000</td>\n",
       "      <td>16800</td>\n",
       "      <td>160026</td>\n",
       "    </tr>\n",
       "    <tr>\n",
       "      <th>...</th>\n",
       "      <td>...</td>\n",
       "      <td>...</td>\n",
       "      <td>...</td>\n",
       "      <td>...</td>\n",
       "      <td>...</td>\n",
       "    </tr>\n",
       "    <tr>\n",
       "      <th>2021-05-28</th>\n",
       "      <td>80100</td>\n",
       "      <td>232000</td>\n",
       "      <td>125000</td>\n",
       "      <td>122000</td>\n",
       "      <td>358000</td>\n",
       "    </tr>\n",
       "    <tr>\n",
       "      <th>2021-05-31</th>\n",
       "      <td>80500</td>\n",
       "      <td>235000</td>\n",
       "      <td>127000</td>\n",
       "      <td>123000</td>\n",
       "      <td>362500</td>\n",
       "    </tr>\n",
       "    <tr>\n",
       "      <th>2021-06-01</th>\n",
       "      <td>80600</td>\n",
       "      <td>237000</td>\n",
       "      <td>128500</td>\n",
       "      <td>127000</td>\n",
       "      <td>367000</td>\n",
       "    </tr>\n",
       "    <tr>\n",
       "      <th>2021-06-02</th>\n",
       "      <td>80800</td>\n",
       "      <td>238000</td>\n",
       "      <td>126000</td>\n",
       "      <td>127000</td>\n",
       "      <td>363000</td>\n",
       "    </tr>\n",
       "    <tr>\n",
       "      <th>2021-06-03</th>\n",
       "      <td>82800</td>\n",
       "      <td>238500</td>\n",
       "      <td>129000</td>\n",
       "      <td>126500</td>\n",
       "      <td>362000</td>\n",
       "    </tr>\n",
       "  </tbody>\n",
       "</table>\n",
       "<p>1085 rows × 5 columns</p>\n",
       "</div>"
      ],
      "text/plain": [
       "            Samsung  Hyundai  SK hynix   KaKao   Naver\n",
       "Date                                                  \n",
       "2017-01-02    36100   150000     45800   15394  155620\n",
       "2017-01-03    36480   153000     47250   16057  153617\n",
       "2017-01-04    36160   154000     46500   16920  162230\n",
       "2017-01-05    35560   153500     46950   16860  158424\n",
       "2017-01-06    36200   151000     48000   16800  160026\n",
       "...             ...      ...       ...     ...     ...\n",
       "2021-05-28    80100   232000    125000  122000  358000\n",
       "2021-05-31    80500   235000    127000  123000  362500\n",
       "2021-06-01    80600   237000    128500  127000  367000\n",
       "2021-06-02    80800   238000    126000  127000  363000\n",
       "2021-06-03    82800   238500    129000  126500  362000\n",
       "\n",
       "[1085 rows x 5 columns]"
      ]
     },
     "execution_count": 19,
     "metadata": {},
     "output_type": "execute_result"
    }
   ],
   "source": [
    "close_df"
   ]
  },
  {
   "cell_type": "code",
   "execution_count": 4,
   "metadata": {},
   "outputs": [],
   "source": [
    "close_df_2018 = close_df[\"2017-12-31\":\"2019-01-01\"]\n",
    "close_df_2019 = close_df[\"2018-12-31\":\"2020-01-01\"]\n",
    "close_df_2020 = close_df[\"2019-12-31\":\"2021-01-01\"]"
   ]
  },
  {
   "cell_type": "markdown",
   "metadata": {},
   "source": [
    "### 1-c)"
   ]
  },
  {
   "cell_type": "code",
   "execution_count": 5,
   "metadata": {},
   "outputs": [
    {
     "name": "stderr",
     "output_type": "stream",
     "text": [
      "<ipython-input-5-2c9d58a29e84>:3: FutureWarning: Slicing a positional slice with .loc is not supported, and will raise TypeError in a future version.  Use .loc with labels or .iloc with positions instead.\n",
      "  log_df_2018.loc[0:1,list(log_df_2018.columns)]=0.0 # shift1하면서 생긴 none 데이터 결측치 처리\n"
     ]
    }
   ],
   "source": [
    "#2018\n",
    "log_df_2018 = np.log(close_df_2018/close_df_2018.shift(1))\n",
    "log_df_2018.loc[0:1,list(log_df_2018.columns)]=0.0 # shift1하면서 생긴 none 데이터 결측치 처리\n",
    "\n",
    "mu_2018 = log_df_2018.mean() * len(log_df_2018) #annualization 데이터가 1년단위면 길이만큼 곱해줌, 1년 단위가 아니면 특정 숫자 곱해줌\n",
    "sigma_2018 = log_df_2018.cov() * len(log_df_2018) # daily T=251, monthly T=12, weekly T=52"
   ]
  },
  {
   "cell_type": "code",
   "execution_count": 6,
   "metadata": {},
   "outputs": [
    {
     "data": {
      "text/plain": [
       "Samsung    -0.276378\n",
       "Hyundai    -0.232383\n",
       "SK hynix   -0.235954\n",
       "KaKao      -0.352336\n",
       "Naver      -0.373546\n",
       "dtype: float64"
      ]
     },
     "execution_count": 6,
     "metadata": {},
     "output_type": "execute_result"
    }
   ],
   "source": [
    "mu_2018"
   ]
  },
  {
   "cell_type": "code",
   "execution_count": 7,
   "metadata": {},
   "outputs": [
    {
     "data": {
      "text/html": [
       "<div>\n",
       "<style scoped>\n",
       "    .dataframe tbody tr th:only-of-type {\n",
       "        vertical-align: middle;\n",
       "    }\n",
       "\n",
       "    .dataframe tbody tr th {\n",
       "        vertical-align: top;\n",
       "    }\n",
       "\n",
       "    .dataframe thead th {\n",
       "        text-align: right;\n",
       "    }\n",
       "</style>\n",
       "<table border=\"1\" class=\"dataframe\">\n",
       "  <thead>\n",
       "    <tr style=\"text-align: right;\">\n",
       "      <th></th>\n",
       "      <th>Samsung</th>\n",
       "      <th>Hyundai</th>\n",
       "      <th>SK hynix</th>\n",
       "      <th>KaKao</th>\n",
       "      <th>Naver</th>\n",
       "    </tr>\n",
       "  </thead>\n",
       "  <tbody>\n",
       "    <tr>\n",
       "      <th>Samsung</th>\n",
       "      <td>0.069588</td>\n",
       "      <td>0.003577</td>\n",
       "      <td>0.060458</td>\n",
       "      <td>0.030400</td>\n",
       "      <td>0.024737</td>\n",
       "    </tr>\n",
       "    <tr>\n",
       "      <th>Hyundai</th>\n",
       "      <td>0.003577</td>\n",
       "      <td>0.089869</td>\n",
       "      <td>-0.004189</td>\n",
       "      <td>0.024834</td>\n",
       "      <td>0.011415</td>\n",
       "    </tr>\n",
       "    <tr>\n",
       "      <th>SK hynix</th>\n",
       "      <td>0.060458</td>\n",
       "      <td>-0.004189</td>\n",
       "      <td>0.124256</td>\n",
       "      <td>0.034097</td>\n",
       "      <td>0.016693</td>\n",
       "    </tr>\n",
       "    <tr>\n",
       "      <th>KaKao</th>\n",
       "      <td>0.030400</td>\n",
       "      <td>0.024834</td>\n",
       "      <td>0.034097</td>\n",
       "      <td>0.131883</td>\n",
       "      <td>0.048776</td>\n",
       "    </tr>\n",
       "    <tr>\n",
       "      <th>Naver</th>\n",
       "      <td>0.024737</td>\n",
       "      <td>0.011415</td>\n",
       "      <td>0.016693</td>\n",
       "      <td>0.048776</td>\n",
       "      <td>0.090944</td>\n",
       "    </tr>\n",
       "  </tbody>\n",
       "</table>\n",
       "</div>"
      ],
      "text/plain": [
       "           Samsung   Hyundai  SK hynix     KaKao     Naver\n",
       "Samsung   0.069588  0.003577  0.060458  0.030400  0.024737\n",
       "Hyundai   0.003577  0.089869 -0.004189  0.024834  0.011415\n",
       "SK hynix  0.060458 -0.004189  0.124256  0.034097  0.016693\n",
       "KaKao     0.030400  0.024834  0.034097  0.131883  0.048776\n",
       "Naver     0.024737  0.011415  0.016693  0.048776  0.090944"
      ]
     },
     "execution_count": 7,
     "metadata": {},
     "output_type": "execute_result"
    }
   ],
   "source": [
    "sigma_2018"
   ]
  },
  {
   "cell_type": "code",
   "execution_count": 8,
   "metadata": {
    "scrolled": true
   },
   "outputs": [
    {
     "name": "stderr",
     "output_type": "stream",
     "text": [
      "<ipython-input-8-9ad3001e2ffe>:3: FutureWarning: Slicing a positional slice with .loc is not supported, and will raise TypeError in a future version.  Use .loc with labels or .iloc with positions instead.\n",
      "  log_df_2019.loc[0:1,list(log_df_2019.columns)]=0.0 # shift1하면서 생긴 none 데이터 결측치 처리\n"
     ]
    }
   ],
   "source": [
    "#2019\n",
    "log_df_2019 = np.log(close_df_2019/close_df_2019.shift(1))\n",
    "log_df_2019.loc[0:1,list(log_df_2019.columns)]=0.0 # shift1하면서 생긴 none 데이터 결측치 처리\n",
    "\n",
    "mu_2019 = log_df_2019.mean() * len(log_df_2019) #annualization 데이터가 1년단위면 길이만큼 곱해줌, 1년 단위가 아니면 특정 숫자 곱해줌\n",
    "sigma_2019 = log_df_2019.cov() * len(log_df_2019) # daily T=251, monthly T=12, weekly T=52"
   ]
  },
  {
   "cell_type": "code",
   "execution_count": 9,
   "metadata": {},
   "outputs": [
    {
     "data": {
      "text/plain": [
       "Samsung     0.364643\n",
       "Hyundai     0.055451\n",
       "SK hynix    0.440063\n",
       "KaKao       0.408732\n",
       "Naver       0.457747\n",
       "dtype: float64"
      ]
     },
     "execution_count": 9,
     "metadata": {},
     "output_type": "execute_result"
    }
   ],
   "source": [
    "mu_2019"
   ]
  },
  {
   "cell_type": "code",
   "execution_count": 10,
   "metadata": {},
   "outputs": [
    {
     "data": {
      "text/html": [
       "<div>\n",
       "<style scoped>\n",
       "    .dataframe tbody tr th:only-of-type {\n",
       "        vertical-align: middle;\n",
       "    }\n",
       "\n",
       "    .dataframe tbody tr th {\n",
       "        vertical-align: top;\n",
       "    }\n",
       "\n",
       "    .dataframe thead th {\n",
       "        text-align: right;\n",
       "    }\n",
       "</style>\n",
       "<table border=\"1\" class=\"dataframe\">\n",
       "  <thead>\n",
       "    <tr style=\"text-align: right;\">\n",
       "      <th></th>\n",
       "      <th>Samsung</th>\n",
       "      <th>Hyundai</th>\n",
       "      <th>SK hynix</th>\n",
       "      <th>KaKao</th>\n",
       "      <th>Naver</th>\n",
       "    </tr>\n",
       "  </thead>\n",
       "  <tbody>\n",
       "    <tr>\n",
       "      <th>Samsung</th>\n",
       "      <td>0.051675</td>\n",
       "      <td>0.012462</td>\n",
       "      <td>0.055106</td>\n",
       "      <td>0.008036</td>\n",
       "      <td>0.009020</td>\n",
       "    </tr>\n",
       "    <tr>\n",
       "      <th>Hyundai</th>\n",
       "      <td>0.012462</td>\n",
       "      <td>0.055022</td>\n",
       "      <td>0.017534</td>\n",
       "      <td>0.005146</td>\n",
       "      <td>0.011152</td>\n",
       "    </tr>\n",
       "    <tr>\n",
       "      <th>SK hynix</th>\n",
       "      <td>0.055106</td>\n",
       "      <td>0.017534</td>\n",
       "      <td>0.120113</td>\n",
       "      <td>0.007239</td>\n",
       "      <td>0.010537</td>\n",
       "    </tr>\n",
       "    <tr>\n",
       "      <th>KaKao</th>\n",
       "      <td>0.008036</td>\n",
       "      <td>0.005146</td>\n",
       "      <td>0.007239</td>\n",
       "      <td>0.077861</td>\n",
       "      <td>0.022141</td>\n",
       "    </tr>\n",
       "    <tr>\n",
       "      <th>Naver</th>\n",
       "      <td>0.009020</td>\n",
       "      <td>0.011152</td>\n",
       "      <td>0.010537</td>\n",
       "      <td>0.022141</td>\n",
       "      <td>0.101445</td>\n",
       "    </tr>\n",
       "  </tbody>\n",
       "</table>\n",
       "</div>"
      ],
      "text/plain": [
       "           Samsung   Hyundai  SK hynix     KaKao     Naver\n",
       "Samsung   0.051675  0.012462  0.055106  0.008036  0.009020\n",
       "Hyundai   0.012462  0.055022  0.017534  0.005146  0.011152\n",
       "SK hynix  0.055106  0.017534  0.120113  0.007239  0.010537\n",
       "KaKao     0.008036  0.005146  0.007239  0.077861  0.022141\n",
       "Naver     0.009020  0.011152  0.010537  0.022141  0.101445"
      ]
     },
     "execution_count": 10,
     "metadata": {},
     "output_type": "execute_result"
    }
   ],
   "source": [
    "sigma_2019"
   ]
  },
  {
   "cell_type": "code",
   "execution_count": 11,
   "metadata": {},
   "outputs": [
    {
     "name": "stderr",
     "output_type": "stream",
     "text": [
      "<ipython-input-11-b44b393f61e4>:3: FutureWarning: Slicing a positional slice with .loc is not supported, and will raise TypeError in a future version.  Use .loc with labels or .iloc with positions instead.\n",
      "  log_df_2020.loc[0:1,list(log_df_2020.columns)]=0.0 # shift1하면서 생긴 none 데이터 결측치 처리\n"
     ]
    }
   ],
   "source": [
    "#2020\n",
    "log_df_2020= np.log(close_df_2020/close_df_2020.shift(1))\n",
    "log_df_2020.loc[0:1,list(log_df_2020.columns)]=0.0 # shift1하면서 생긴 none 데이터 결측치 처리\n",
    "\n",
    "mu_2020 = log_df_2020.mean() * len(log_df_2020) #annualization 데이터가 1년단위면 길이만큼 곱해줌, 1년 단위가 아니면 특정 숫자 곱해줌\n",
    "sigma_2020 = log_df_2020.cov() * len(log_df_2020) # daily T=251, monthly T=12, weekly T=52"
   ]
  },
  {
   "cell_type": "code",
   "execution_count": 12,
   "metadata": {},
   "outputs": [
    {
     "data": {
      "text/plain": [
       "Samsung     0.383486\n",
       "Hyundai     0.486811\n",
       "SK hynix    0.224199\n",
       "KaKao       0.937707\n",
       "Naver       0.471714\n",
       "dtype: float64"
      ]
     },
     "execution_count": 12,
     "metadata": {},
     "output_type": "execute_result"
    }
   ],
   "source": [
    "mu_2020"
   ]
  },
  {
   "cell_type": "code",
   "execution_count": 13,
   "metadata": {},
   "outputs": [
    {
     "data": {
      "text/html": [
       "<div>\n",
       "<style scoped>\n",
       "    .dataframe tbody tr th:only-of-type {\n",
       "        vertical-align: middle;\n",
       "    }\n",
       "\n",
       "    .dataframe tbody tr th {\n",
       "        vertical-align: top;\n",
       "    }\n",
       "\n",
       "    .dataframe thead th {\n",
       "        text-align: right;\n",
       "    }\n",
       "</style>\n",
       "<table border=\"1\" class=\"dataframe\">\n",
       "  <thead>\n",
       "    <tr style=\"text-align: right;\">\n",
       "      <th></th>\n",
       "      <th>Samsung</th>\n",
       "      <th>Hyundai</th>\n",
       "      <th>SK hynix</th>\n",
       "      <th>KaKao</th>\n",
       "      <th>Naver</th>\n",
       "    </tr>\n",
       "  </thead>\n",
       "  <tbody>\n",
       "    <tr>\n",
       "      <th>Samsung</th>\n",
       "      <td>0.107974</td>\n",
       "      <td>0.088395</td>\n",
       "      <td>0.103681</td>\n",
       "      <td>0.045781</td>\n",
       "      <td>0.049261</td>\n",
       "    </tr>\n",
       "    <tr>\n",
       "      <th>Hyundai</th>\n",
       "      <td>0.088395</td>\n",
       "      <td>0.231081</td>\n",
       "      <td>0.096193</td>\n",
       "      <td>0.048717</td>\n",
       "      <td>0.053302</td>\n",
       "    </tr>\n",
       "    <tr>\n",
       "      <th>SK hynix</th>\n",
       "      <td>0.103681</td>\n",
       "      <td>0.096193</td>\n",
       "      <td>0.165009</td>\n",
       "      <td>0.058325</td>\n",
       "      <td>0.065012</td>\n",
       "    </tr>\n",
       "    <tr>\n",
       "      <th>KaKao</th>\n",
       "      <td>0.045781</td>\n",
       "      <td>0.048717</td>\n",
       "      <td>0.058325</td>\n",
       "      <td>0.161585</td>\n",
       "      <td>0.123059</td>\n",
       "    </tr>\n",
       "    <tr>\n",
       "      <th>Naver</th>\n",
       "      <td>0.049261</td>\n",
       "      <td>0.053302</td>\n",
       "      <td>0.065012</td>\n",
       "      <td>0.123059</td>\n",
       "      <td>0.155526</td>\n",
       "    </tr>\n",
       "  </tbody>\n",
       "</table>\n",
       "</div>"
      ],
      "text/plain": [
       "           Samsung   Hyundai  SK hynix     KaKao     Naver\n",
       "Samsung   0.107974  0.088395  0.103681  0.045781  0.049261\n",
       "Hyundai   0.088395  0.231081  0.096193  0.048717  0.053302\n",
       "SK hynix  0.103681  0.096193  0.165009  0.058325  0.065012\n",
       "KaKao     0.045781  0.048717  0.058325  0.161585  0.123059\n",
       "Naver     0.049261  0.053302  0.065012  0.123059  0.155526"
      ]
     },
     "execution_count": 13,
     "metadata": {},
     "output_type": "execute_result"
    }
   ],
   "source": [
    "sigma_2020"
   ]
  },
  {
   "cell_type": "markdown",
   "metadata": {},
   "source": [
    "### 2-a)"
   ]
  },
  {
   "cell_type": "code",
   "execution_count": 14,
   "metadata": {},
   "outputs": [
    {
     "name": "stdout",
     "output_type": "stream",
     "text": [
      "expected return -0.27068996187790695\n",
      "standard deviation 0.18766886625011261\n",
      "weights [2.95450148e-01 3.85809049e-01 1.43074397e-01 3.59375832e-23\n",
      " 1.75666406e-01]\n"
     ]
    },
    {
     "name": "stderr",
     "output_type": "stream",
     "text": [
      "C:\\ana3\\envs\\t_f2.2\\lib\\site-packages\\cvxpy\\expressions\\expression.py:556: UserWarning: \n",
      "This use of ``*`` has resulted in matrix multiplication.\n",
      "Using ``*`` for matrix multiplication has been deprecated since CVXPY 1.1.\n",
      "    Use ``*`` for matrix-scalar and vector-scalar multiplication.\n",
      "    Use ``@`` for matrix-matrix and matrix-vector multiplication.\n",
      "    Use ``multiply`` for elementwise multiplication.\n",
      "This code path has been hit 1 times so far.\n",
      "\n",
      "  warnings.warn(msg, UserWarning)\n"
     ]
    }
   ],
   "source": [
    "mu_2018 = mu_2018.values\n",
    "mu_2018 = mu_2018.reshape((5,))\n",
    "\n",
    "w_2018 = cp.Variable(5)\n",
    "\n",
    "lambda_ = 0.1 \n",
    "\n",
    "ret_2018 = mu_2018.T * w_2018\n",
    "risk_2018 = cp.quad_form(w_2018,sigma_2018)\n",
    "\n",
    "obj_2018 =cp.Minimize(risk_2018-lambda_*ret_2018)\n",
    "\n",
    "prob_2018 = cp.Problem(obj_2018,\n",
    "                 [sum(w_2018)==1, \n",
    "                 w_2018>=0])\n",
    "\n",
    "prob_2018.solve()\n",
    "print('expected return', mu_2018.dot(w_2018.value)) # expected retrun Mu^T * w^*(optimal one)\n",
    "print('standard deviation',np.sqrt(w_2018.value.dot(sigma_2018).dot(w_2018.value)))\n",
    "print('weights', w_2018.value)"
   ]
  },
  {
   "cell_type": "code",
   "execution_count": 16,
   "metadata": {},
   "outputs": [
    {
     "data": {
      "text/plain": [
       "-0.2763781126779285"
      ]
     },
     "execution_count": 16,
     "metadata": {},
     "output_type": "execute_result"
    }
   ],
   "source": [
    "mu_2018[0]"
   ]
  },
  {
   "cell_type": "markdown",
   "metadata": {},
   "source": [
    "### 2-b)"
   ]
  },
  {
   "cell_type": "code",
   "execution_count": 11,
   "metadata": {},
   "outputs": [
    {
     "name": "stdout",
     "output_type": "stream",
     "text": [
      "1.0903225806451613\n",
      "0.6842105263157895\n",
      "0.9554455445544554\n",
      "2.8186391833146094\n",
      "1.478813559322034\n"
     ]
    }
   ],
   "source": [
    "gain_list = []\n",
    "for i in range(5):\n",
    "    gap_price = close_df_2020.iloc[-1][i] - close_df_2019.iloc[0][i] # (20년 가격 - 19년 가격)\n",
    "    return_pct = (gap_price / close_df_2019.iloc[0][i]) # (20년 가격 - 19년 가격)/(19년 가격)\n",
    "    print(return_pct)\n",
    "    #gain_list.append(return_pct * w_2018.value[i]*100) # 수익률 x 비중 \n",
    "    gain_list.append((1+return_pct) * w_2018.value[i]*100) "
   ]
  },
  {
   "cell_type": "code",
   "execution_count": 12,
   "metadata": {},
   "outputs": [
    {
     "data": {
      "text/plain": [
       "198.2588238597681"
      ]
     },
     "execution_count": 12,
     "metadata": {},
     "output_type": "execute_result"
    }
   ],
   "source": [
    "# 2019년 1월1일에 100$ 집어 넣어서, 2020년 12월31일에 198$ 됬음\n",
    "all_gain = 0\n",
    "for rtn in gain_list:\n",
    "    all_gain += rtn\n",
    "all_gain"
   ]
  },
  {
   "cell_type": "code",
   "execution_count": 13,
   "metadata": {},
   "outputs": [
    {
     "data": {
      "text/plain": [
       "0.4080441181290029"
      ]
     },
     "execution_count": 13,
     "metadata": {},
     "output_type": "execute_result"
    }
   ],
   "source": [
    "all_ann_rtn = np.sqrt(all_gain/100)-1 \n",
    "all_ann_rtn"
   ]
  },
  {
   "cell_type": "code",
   "execution_count": 82,
   "metadata": {
    "scrolled": true
   },
   "outputs": [
    {
     "data": {
      "text/plain": [
       "0.2623031924043395"
      ]
     },
     "execution_count": 82,
     "metadata": {},
     "output_type": "execute_result"
    }
   ],
   "source": [
    "# annual return standard deviation\n",
    "days = int(len(log_df_2019) + len(log_df_2020))/2\n",
    "\n",
    "concat_df = pd.concat([log_df_2019,log_df_2020])\n",
    "sdv = np.sqrt(w_2018.value.dot(concat_df.cov()*days).dot(w_2018.value))\n",
    "sdv"
   ]
  },
  {
   "cell_type": "markdown",
   "metadata": {},
   "source": [
    "### 2-c)"
   ]
  },
  {
   "cell_type": "code",
   "execution_count": 16,
   "metadata": {},
   "outputs": [
    {
     "data": {
      "text/plain": [
       "[29.545014805660806,\n",
       " 38.5809048824135,\n",
       " 14.3074397146635,\n",
       " 2.9849645044896876e-21,\n",
       " 17.566640597262197]"
      ]
     },
     "execution_count": 16,
     "metadata": {},
     "output_type": "execute_result"
    }
   ],
   "source": [
    "invested_money = []\n",
    "for w in w_2018.value:\n",
    "    invested_money.append(100*w)\n",
    "invested_money"
   ]
  },
  {
   "cell_type": "code",
   "execution_count": 17,
   "metadata": {},
   "outputs": [],
   "source": [
    "invested_ = {}\n",
    "close_df = close_df['2018-12-28':'2020-12-31']\n",
    "log_close = np.log(close_df/close_df.shift(1))\n",
    "log_close = log_close.dropna()\n",
    "for i in range(len(log_close)):\n",
    "    invested_money[0] = invested_money[0] * (1+log_close['Samsung'].iloc[i])\n",
    "    invested_money[1] = invested_money[1] * (1+log_close['Hyundai'].iloc[i])\n",
    "    invested_money[2] = invested_money[2] * (1+log_close['SK hynix'].iloc[i])\n",
    "    invested_money[3] = invested_money[3] * (1+log_close['KaKao'].iloc[i])\n",
    "    invested_money[4] = invested_money[4] * (1+log_close['Naver'].iloc[i])\n",
    "    invested_[i] = invested_money[0] +invested_money[1] +invested_money[2] +invested_money[3] + invested_money[4] "
   ]
  },
  {
   "cell_type": "code",
   "execution_count": 86,
   "metadata": {
    "scrolled": true
   },
   "outputs": [
    {
     "data": {
      "image/png": "[encoded data removed]",
      "text/plain": [
       "<Figure size 432x288 with 1 Axes>"
      ]
     },
     "metadata": {
      "needs_background": "light"
     },
     "output_type": "display_data"
    }
   ],
   "source": [
    "import matplotlib.pyplot as plt\n",
    "plt.plot(range(len(invested_)), invested_.values())\n",
    "plt.xlabel('days') \n",
    "plt.ylabel('account value $')\n",
    "plt.show()"
   ]
  },
  {
   "cell_type": "markdown",
   "metadata": {},
   "source": [
    "### 2-d)"
   ]
  },
  {
   "cell_type": "code",
   "execution_count": 20,
   "metadata": {},
   "outputs": [
    {
     "name": "stdout",
     "output_type": "stream",
     "text": [
      "expected return 0.381769478878326\n",
      "standard deviation 0.1703546643717708\n"
     ]
    },
    {
     "name": "stderr",
     "output_type": "stream",
     "text": [
      "C:\\ana3\\envs\\t_f2.2\\lib\\site-packages\\cvxpy\\expressions\\expression.py:556: UserWarning: \n",
      "This use of ``*`` has resulted in matrix multiplication.\n",
      "Using ``*`` for matrix multiplication has been deprecated since CVXPY 1.1.\n",
      "    Use ``*`` for matrix-scalar and vector-scalar multiplication.\n",
      "    Use ``@`` for matrix-matrix and matrix-vector multiplication.\n",
      "    Use ``multiply`` for elementwise multiplication.\n",
      "This code path has been hit 2 times so far.\n",
      "\n",
      "  warnings.warn(msg, UserWarning)\n"
     ]
    }
   ],
   "source": [
    "mu_2019 = mu_2019.values\n",
    "mu_2019 = mu_2019.reshape((5,))\n",
    "\n",
    "w_2019 = cp.Variable(5)\n",
    "\n",
    "lambda_ =0.1 \n",
    "\n",
    "ret_2019 = mu_2019.T * w_2019\n",
    "risk_2019 = cp.quad_form(w_2019,sigma_2019)\n",
    "\n",
    "obj_2019 =cp.Minimize(risk_2019-lambda_*ret_2019)\n",
    "\n",
    "prob_2019 = cp.Problem(obj_2019,\n",
    "                 [sum(w_2019)==1, \n",
    "                 w_2019>=0])\n",
    "\n",
    "prob_2019.solve()\n",
    "print('expected return', mu_2019.dot(w_2019.value))\n",
    "print('standard deviation',np.sqrt(w_2019.value.dot(sigma_2019).dot(w_2019.value)))"
   ]
  },
  {
   "cell_type": "code",
   "execution_count": 21,
   "metadata": {},
   "outputs": [
    {
     "data": {
      "text/plain": [
       "array([0.41840464, 0.05673786, 0.02987155, 0.27886979, 0.21611616])"
      ]
     },
     "execution_count": 21,
     "metadata": {},
     "output_type": "execute_result"
    }
   ],
   "source": [
    "w_2019.value"
   ]
  },
  {
   "cell_type": "code",
   "execution_count": 22,
   "metadata": {},
   "outputs": [
    {
     "name": "stdout",
     "output_type": "stream",
     "text": [
      "0.4673913043478261\n",
      "0.6271186440677966\n",
      "0.25131995776135163\n",
      "1.5541180698487373\n",
      "0.6027397260273972\n"
     ]
    }
   ],
   "source": [
    "gain_list = []\n",
    "for i in range(5):\n",
    "    gap_price = close_df_2020.iloc[-1][i] - close_df_2020.iloc[0][i] # (20년 1월 가격 - 20년  12월 가격)\n",
    "    return_pct = (gap_price / close_df_2020.iloc[0][i])# (20년 1월 가격 - 20년  12월 가격)/(19년 가격)\n",
    "    print(return_pct)\n",
    "    gain_list.append(return_pct * w_2019.value[i]*100)# 수익률 x 비중 "
   ]
  },
  {
   "cell_type": "code",
   "execution_count": 23,
   "metadata": {},
   "outputs": [
    {
     "data": {
      "text/plain": [
       "180.23057498946946"
      ]
     },
     "execution_count": 23,
     "metadata": {},
     "output_type": "execute_result"
    }
   ],
   "source": [
    "# 2020년 1월1일에 100$ 집어 넣어서, 2020년 12월31일에 180$ 됬음\n",
    "all_gain = 0\n",
    "for rtn in gain_list:\n",
    "    all_gain += rtn\n",
    "current_money = 100 + all_gain # 100은 원래 자본, all_gain은 수익\n",
    "current_money"
   ]
  },
  {
   "cell_type": "code",
   "execution_count": 24,
   "metadata": {},
   "outputs": [
    {
     "data": {
      "text/plain": [
       "0.8023057498946946"
      ]
     },
     "execution_count": 24,
     "metadata": {},
     "output_type": "execute_result"
    }
   ],
   "source": [
    "all_ann_rtn = (current_money/100)-1 \n",
    "all_ann_rtn"
   ]
  },
  {
   "cell_type": "code",
   "execution_count": 84,
   "metadata": {},
   "outputs": [
    {
     "data": {
      "text/plain": [
       "0.29295591875839316"
      ]
     },
     "execution_count": 84,
     "metadata": {},
     "output_type": "execute_result"
    }
   ],
   "source": [
    "# annual return standard deviation\n",
    "days = int(len(log_df_2020))\n",
    "\n",
    "sdv = np.sqrt(w_2019.value.dot(log_df_2020.cov()*days).dot(w_2019.value))\n",
    "sdv"
   ]
  },
  {
   "cell_type": "code",
   "execution_count": 26,
   "metadata": {},
   "outputs": [
    {
     "data": {
      "text/plain": [
       "[41.84046422127436,\n",
       " 5.673785625555312,\n",
       " 2.987155495982261,\n",
       " 27.886979024856384,\n",
       " 21.611615632331677]"
      ]
     },
     "execution_count": 26,
     "metadata": {},
     "output_type": "execute_result"
    }
   ],
   "source": [
    "invested_money = []\n",
    "for w in w_2019.value:\n",
    "    invested_money.append(100*w)\n",
    "invested_money"
   ]
  },
  {
   "cell_type": "code",
   "execution_count": 27,
   "metadata": {},
   "outputs": [],
   "source": [
    "invested_ = {}\n",
    "for i in range(1,len(log_df_2020)):\n",
    "    invested_money[0] = invested_money[0] * (1+log_df_2020['Samsung'].iloc[i])\n",
    "    invested_money[1] = invested_money[1] * (1+log_df_2020['Hyundai'].iloc[i])\n",
    "    invested_money[2] = invested_money[2] * (1+log_df_2020['SK hynix'].iloc[i])\n",
    "    invested_money[3] = invested_money[3] * (1+log_df_2020['KaKao'].iloc[i])\n",
    "    invested_money[4] = invested_money[4] * (1+log_df_2020['Naver'].iloc[i])\n",
    "    invested_[i] = invested_money[0] +invested_money[1] +invested_money[2] +invested_money[3] + invested_money[4] "
   ]
  },
  {
   "cell_type": "code",
   "execution_count": 85,
   "metadata": {
    "scrolled": false
   },
   "outputs": [
    {
     "data": {
      "image/png": "[encoded data removed]",
      "text/plain": [
       "<Figure size 432x288 with 1 Axes>"
      ]
     },
     "metadata": {
      "needs_background": "light"
     },
     "output_type": "display_data"
    }
   ],
   "source": [
    "plt.plot(range(len(log_df_2020)-1), invested_.values())\n",
    "plt.xlabel('days') \n",
    "plt.ylabel('account value $')\n",
    "plt.show()"
   ]
  },
  {
   "cell_type": "code",
   "execution_count": null,
   "metadata": {},
   "outputs": [],
   "source": []
  }
 ],
 "metadata": {
  "kernelspec": {
   "display_name": "Python 3",
   "language": "python",
   "name": "python3"
  },
  "language_info": {
   "codemirror_mode": {
    "name": "ipython",
    "version": 3
   },
   "file_extension": ".py",
   "mimetype": "text/x-python",
   "name": "python",
   "nbconvert_exporter": "python",
   "pygments_lexer": "ipython3",
   "version": "3.8.0"
  }
 },
 "nbformat": 4,
 "nbformat_minor": 4
}
